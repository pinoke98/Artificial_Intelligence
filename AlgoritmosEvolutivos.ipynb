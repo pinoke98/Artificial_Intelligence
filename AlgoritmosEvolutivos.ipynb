{
  "nbformat": 4,
  "nbformat_minor": 0,
  "metadata": {
    "colab": {
      "name": "AlgoritmosEvolutivos.ipynb",
      "provenance": [],
      "authorship_tag": "ABX9TyO2cJthkactuxidiJ0ZiE6M",
      "include_colab_link": true
    },
    "kernelspec": {
      "name": "python3",
      "display_name": "Python 3"
    },
    "language_info": {
      "name": "python"
    }
  },
  "cells": [
    {
      "cell_type": "markdown",
      "metadata": {
        "id": "view-in-github",
        "colab_type": "text"
      },
      "source": [
        "<a href=\"https://colab.research.google.com/github/pinoke98/Artificial_Intelligence/blob/main/AlgoritmosEvolutivos.ipynb\" target=\"_parent\"><img src=\"https://colab.research.google.com/assets/colab-badge.svg\" alt=\"Open In Colab\"/></a>"
      ]
    },
    {
      "cell_type": "code",
      "metadata": {
        "id": "iUllxdur3gXY"
      },
      "source": [
        "import numpy as np"
      ],
      "execution_count": null,
      "outputs": []
    },
    {
      "cell_type": "code",
      "metadata": {
        "cellView": "form",
        "id": "Pa7L4TBt1kBA"
      },
      "source": [
        "#@title Introducir la cantidad de productos (N) y el preso max permitido en la mochila (W)\n",
        "N =  10#@param {type:\"integer\"}\n",
        "W =  50#@param {type:\"integer\"}"
      ],
      "execution_count": null,
      "outputs": []
    },
    {
      "cell_type": "code",
      "metadata": {
        "cellView": "form",
        "id": "rezMcqhA29IA"
      },
      "source": [
        "#@title Rango de Precios\n",
        "MinPrecio =  1#@param {type:\"number\"}\n",
        "MaxPrecio =  100#@param {type:\"number\"}\n"
      ],
      "execution_count": null,
      "outputs": []
    },
    {
      "cell_type": "code",
      "metadata": {
        "colab": {
          "base_uri": "https://localhost:8080/"
        },
        "id": "E7cLStOp3jI7",
        "outputId": "9e8530c7-2f24-4835-df88-8658283e0a26"
      },
      "source": [
        "weights = W*np.random.random_sample((N,))\n",
        "weights"
      ],
      "execution_count": null,
      "outputs": [
        {
          "output_type": "execute_result",
          "data": {
            "text/plain": [
              "array([15.04923379, 36.30654658, 15.89276564, 34.91136209, 46.65484352,\n",
              "       30.01277359, 26.10131678, 17.55918625, 31.54590606, 42.73097147])"
            ]
          },
          "metadata": {
            "tags": []
          },
          "execution_count": 5
        }
      ]
    },
    {
      "cell_type": "code",
      "metadata": {
        "colab": {
          "base_uri": "https://localhost:8080/"
        },
        "id": "NQQXLpOW3yfG",
        "outputId": "d9ca1840-1988-4e87-900a-f36c20bf2630"
      },
      "source": [
        "precios = (MaxPrecio-MinPrecio)*np.random.random_sample((N,)) + MinPrecio\n",
        "precios"
      ],
      "execution_count": null,
      "outputs": [
        {
          "output_type": "execute_result",
          "data": {
            "text/plain": [
              "array([96.58697522, 13.85433505,  6.00533415, 20.80036417, 10.54616226,\n",
              "       56.97884885, 96.24722117, 29.33518939, 63.53618296, 99.11114986])"
            ]
          },
          "metadata": {
            "tags": []
          },
          "execution_count": 6
        }
      ]
    },
    {
      "cell_type": "markdown",
      "metadata": {
        "id": "ITxfP1iY4Qig"
      },
      "source": [
        "##Generar Poblacion"
      ]
    },
    {
      "cell_type": "code",
      "metadata": {
        "cellView": "form",
        "id": "uhUsJeMc4HNt"
      },
      "source": [
        "#@title Introducir el Tamaño de la Poblacion (NP)\n",
        "Np = 30 #@param {type:\"integer\"}\n"
      ],
      "execution_count": null,
      "outputs": []
    },
    {
      "cell_type": "code",
      "metadata": {
        "colab": {
          "base_uri": "https://localhost:8080/"
        },
        "id": "TJkCnwi54o6L",
        "outputId": "596af4a7-93b1-4cea-ccce-5d43ea9dd598"
      },
      "source": [
        "population = [np.random.randint(0,2,N) for i in range(Np)]\n",
        "population"
      ],
      "execution_count": null,
      "outputs": [
        {
          "output_type": "execute_result",
          "data": {
            "text/plain": [
              "[array([0, 0, 0, 0, 0, 1, 0, 1, 0, 0]),\n",
              " array([0, 1, 1, 0, 1, 1, 1, 0, 0, 0]),\n",
              " array([0, 1, 0, 1, 1, 1, 1, 1, 1, 0]),\n",
              " array([0, 0, 1, 0, 1, 0, 1, 0, 0, 1]),\n",
              " array([1, 1, 0, 0, 0, 0, 1, 1, 0, 1]),\n",
              " array([1, 1, 0, 0, 1, 1, 1, 0, 1, 1]),\n",
              " array([1, 1, 0, 1, 0, 1, 1, 1, 0, 1]),\n",
              " array([0, 1, 1, 1, 0, 1, 0, 1, 0, 0]),\n",
              " array([0, 0, 1, 1, 1, 0, 0, 1, 0, 1]),\n",
              " array([1, 1, 0, 0, 0, 0, 0, 0, 0, 0]),\n",
              " array([0, 1, 0, 1, 1, 0, 1, 1, 1, 0]),\n",
              " array([1, 1, 0, 1, 0, 1, 0, 0, 1, 0]),\n",
              " array([1, 0, 0, 0, 0, 0, 0, 1, 1, 1]),\n",
              " array([1, 1, 1, 0, 0, 1, 1, 0, 1, 0]),\n",
              " array([0, 0, 1, 0, 1, 0, 1, 0, 1, 1]),\n",
              " array([1, 1, 0, 0, 1, 0, 1, 0, 0, 1]),\n",
              " array([0, 0, 0, 0, 1, 0, 0, 0, 1, 0]),\n",
              " array([0, 0, 1, 1, 0, 1, 1, 0, 1, 0]),\n",
              " array([0, 1, 0, 1, 0, 0, 0, 1, 1, 1]),\n",
              " array([0, 1, 1, 0, 1, 0, 0, 0, 0, 1]),\n",
              " array([1, 0, 0, 0, 1, 1, 1, 0, 1, 0]),\n",
              " array([1, 0, 1, 0, 1, 0, 1, 1, 0, 0]),\n",
              " array([1, 1, 1, 1, 1, 0, 0, 0, 1, 1]),\n",
              " array([0, 1, 1, 0, 0, 0, 1, 0, 0, 1]),\n",
              " array([0, 1, 0, 1, 0, 1, 0, 1, 1, 0]),\n",
              " array([0, 1, 1, 0, 1, 1, 0, 1, 0, 0]),\n",
              " array([1, 1, 1, 1, 1, 1, 1, 1, 1, 0]),\n",
              " array([1, 1, 1, 1, 1, 1, 1, 1, 1, 0]),\n",
              " array([1, 0, 0, 1, 1, 0, 1, 0, 0, 1]),\n",
              " array([0, 1, 1, 1, 1, 0, 0, 1, 0, 0])]"
            ]
          },
          "metadata": {
            "tags": []
          },
          "execution_count": 8
        }
      ]
    },
    {
      "cell_type": "code",
      "metadata": {
        "id": "wpXi_8PL6Mt4"
      },
      "source": [
        "def generateFirstPopulation(N,Np):\n",
        "  population = [np.random.randint(0,2,N) for _ in range(Np)]\n",
        "  return population"
      ],
      "execution_count": null,
      "outputs": []
    },
    {
      "cell_type": "code",
      "metadata": {
        "id": "RWIpDHAF61rd"
      },
      "source": [
        "def fitnessFunct(x):\n",
        "  return sum(x*precios)"
      ],
      "execution_count": null,
      "outputs": []
    },
    {
      "cell_type": "code",
      "metadata": {
        "id": "zTWJKHdZ69DM"
      },
      "source": [
        "def valid(x):\n",
        "  print(x)\n",
        "  return 0<sum(x*weights)<=W"
      ],
      "execution_count": null,
      "outputs": []
    },
    {
      "cell_type": "markdown",
      "metadata": {
        "id": "4jJ3_iHY7lHG"
      },
      "source": [
        "###Ejemplo\n"
      ]
    },
    {
      "cell_type": "code",
      "metadata": {
        "colab": {
          "base_uri": "https://localhost:8080/"
        },
        "id": "lkJ-SI1j7n6W",
        "outputId": "345f7ff0-6d75-4341-ff40-e10449a8bd34"
      },
      "source": [
        "print(precios)\n",
        "print(population[0])\n",
        "print(fitnessFunct(population[0]))\n",
        "print(population[0]*weights)\n",
        "print(valid(population[0]))"
      ],
      "execution_count": null,
      "outputs": [
        {
          "output_type": "stream",
          "text": [
            "[96.58697522 13.85433505  6.00533415 20.80036417 10.54616226 56.97884885\n",
            " 96.24722117 29.33518939 63.53618296 99.11114986]\n",
            "[0 0 0 0 0 1 0 1 0 0]\n",
            "86.31403823475006\n",
            "[ 0.          0.          0.          0.          0.         30.01277359\n",
            "  0.         17.55918625  0.          0.        ]\n",
            "True\n"
          ],
          "name": "stdout"
        }
      ]
    },
    {
      "cell_type": "markdown",
      "metadata": {
        "id": "IUFzf2QB8pEM"
      },
      "source": [
        "##Generar la poblacion desde un inicio con individuos validos"
      ]
    },
    {
      "cell_type": "code",
      "metadata": {
        "id": "ylkmKVn38G_O"
      },
      "source": [
        "def fitnessFunct(x):\n",
        "  return 0.1 if not valid(x) else sum(x*precios)"
      ],
      "execution_count": null,
      "outputs": []
    },
    {
      "cell_type": "code",
      "metadata": {
        "id": "DAn_s6ez8Pxn"
      },
      "source": [
        "def generateFirstPopulation(N,Np):\n",
        "  population = []\n",
        "  while len(population)<Np:\n",
        "    aux = np.random.randint(0,2,N)\n",
        "    if valid(aux):\n",
        "      population.append(aux)\n",
        "  return population"
      ],
      "execution_count": null,
      "outputs": []
    },
    {
      "cell_type": "code",
      "metadata": {
        "colab": {
          "base_uri": "https://localhost:8080/"
        },
        "id": "ukouAJ3e9PuT",
        "outputId": "124f801d-f8f4-4bc9-9acb-d05c75a941af"
      },
      "source": [
        "generateFirstPopulation(N,Np)\n"
      ],
      "execution_count": null,
      "outputs": [
        {
          "output_type": "execute_result",
          "data": {
            "text/plain": [
              "[array([0, 0, 0, 0, 0, 0, 1, 0, 0, 0]),\n",
              " array([0, 0, 0, 0, 0, 1, 0, 1, 0, 0]),\n",
              " array([0, 0, 0, 0, 0, 0, 0, 1, 1, 0]),\n",
              " array([1, 0, 0, 0, 0, 0, 0, 1, 0, 0]),\n",
              " array([0, 0, 1, 0, 0, 0, 0, 0, 0, 0]),\n",
              " array([0, 0, 0, 0, 0, 0, 1, 0, 0, 0]),\n",
              " array([0, 0, 0, 1, 0, 0, 0, 0, 0, 0]),\n",
              " array([1, 0, 0, 0, 0, 0, 0, 1, 0, 0]),\n",
              " array([1, 0, 0, 0, 0, 0, 0, 0, 0, 0]),\n",
              " array([0, 0, 0, 0, 0, 1, 0, 0, 0, 0]),\n",
              " array([0, 1, 0, 0, 0, 0, 0, 0, 0, 0]),\n",
              " array([0, 0, 0, 0, 0, 0, 0, 0, 1, 0]),\n",
              " array([0, 0, 0, 0, 0, 0, 1, 0, 0, 0]),\n",
              " array([1, 0, 0, 1, 0, 0, 0, 0, 0, 0]),\n",
              " array([1, 0, 0, 0, 0, 1, 0, 0, 0, 0]),\n",
              " array([0, 0, 0, 0, 1, 0, 0, 0, 0, 0]),\n",
              " array([0, 0, 0, 0, 0, 0, 0, 0, 1, 0]),\n",
              " array([0, 0, 0, 0, 0, 0, 1, 0, 0, 0]),\n",
              " array([0, 0, 1, 0, 0, 1, 0, 0, 0, 0]),\n",
              " array([0, 0, 0, 0, 0, 0, 1, 1, 0, 0]),\n",
              " array([0, 0, 1, 0, 0, 0, 0, 0, 1, 0]),\n",
              " array([0, 0, 0, 0, 0, 0, 0, 0, 1, 0]),\n",
              " array([0, 0, 0, 0, 1, 0, 0, 0, 0, 0]),\n",
              " array([1, 0, 0, 0, 0, 0, 0, 0, 0, 0]),\n",
              " array([0, 0, 0, 0, 0, 0, 1, 0, 0, 0]),\n",
              " array([0, 0, 0, 0, 0, 1, 0, 0, 0, 0]),\n",
              " array([0, 0, 0, 0, 0, 0, 0, 0, 0, 1]),\n",
              " array([0, 0, 0, 0, 1, 0, 0, 0, 0, 0]),\n",
              " array([0, 0, 0, 0, 0, 0, 0, 0, 1, 0]),\n",
              " array([0, 0, 0, 0, 0, 0, 1, 1, 0, 0])]"
            ]
          },
          "metadata": {
            "tags": []
          },
          "execution_count": 15
        }
      ]
    },
    {
      "cell_type": "markdown",
      "metadata": {
        "id": "A-GVI0dC-xYA"
      },
      "source": [
        "##Pasos de Evolucion\n",
        "\n",
        "**Seleccion:** Ruleta\n",
        "\n",
        "**Cruce:** Cruce de un punto\n",
        "\n",
        "**Mutacion:** Mutacion de un punto\n"
      ]
    },
    {
      "cell_type": "markdown",
      "metadata": {
        "id": "Zeg-VnmC_K_Y"
      },
      "source": [
        "##Seleccion: Metodo de la Ruleta"
      ]
    },
    {
      "cell_type": "code",
      "metadata": {
        "id": "PLXuzuNH_Niv"
      },
      "source": [
        "population = generateFirstPopulation(N,Np)"
      ],
      "execution_count": null,
      "outputs": []
    },
    {
      "cell_type": "code",
      "metadata": {
        "colab": {
          "base_uri": "https://localhost:8080/"
        },
        "id": "YuhGIewB_UGj",
        "outputId": "b655f839-996a-4feb-9040-72d9a9512732"
      },
      "source": [
        "sorted_population = sorted(population, key = fitnessFunct, reverse = True)\n",
        "sp = sorted_population[0:5]\n",
        "sp"
      ],
      "execution_count": null,
      "outputs": [
        {
          "output_type": "execute_result",
          "data": {
            "text/plain": [
              "[array([1, 0, 0, 0, 0, 0, 1, 0, 0, 0]),\n",
              " array([1, 0, 0, 0, 0, 0, 1, 0, 0, 0]),\n",
              " array([1, 0, 0, 0, 0, 0, 1, 0, 0, 0]),\n",
              " array([1, 0, 0, 0, 0, 0, 0, 0, 1, 0]),\n",
              " array([1, 0, 0, 0, 0, 0, 0, 0, 1, 0])]"
            ]
          },
          "metadata": {
            "tags": []
          },
          "execution_count": 17
        }
      ]
    },
    {
      "cell_type": "code",
      "metadata": {
        "colab": {
          "base_uri": "https://localhost:8080/"
        },
        "id": "3Vva2pqbAQzb",
        "outputId": "80ed9245-892c-45b1-d746-0816c259aa69"
      },
      "source": [
        "ff = [fitnessFunct(i) for i in sp]\n",
        "ff"
      ],
      "execution_count": null,
      "outputs": [
        {
          "output_type": "execute_result",
          "data": {
            "text/plain": [
              "[192.83419638561313,\n",
              " 192.83419638561313,\n",
              " 192.83419638561313,\n",
              " 160.12315817828983,\n",
              " 160.12315817828983]"
            ]
          },
          "metadata": {
            "tags": []
          },
          "execution_count": 18
        }
      ]
    },
    {
      "cell_type": "code",
      "metadata": {
        "colab": {
          "base_uri": "https://localhost:8080/"
        },
        "id": "QAaSxQAuAWXX",
        "outputId": "0b741903-4c71-4d8f-faf5-9cf2f43833b9"
      },
      "source": [
        "probability = np.array(ff)/sum(ff)\n",
        "probability"
      ],
      "execution_count": null,
      "outputs": [
        {
          "output_type": "execute_result",
          "data": {
            "text/plain": [
              "array([0.21455848, 0.21455848, 0.21455848, 0.17816228, 0.17816228])"
            ]
          },
          "metadata": {
            "tags": []
          },
          "execution_count": 19
        }
      ]
    },
    {
      "cell_type": "code",
      "metadata": {
        "colab": {
          "base_uri": "https://localhost:8080/"
        },
        "id": "eVIqexQGAkLx",
        "outputId": "a40c762c-0ecc-4064-86d2-33caa12c1e09"
      },
      "source": [
        "accumulatedProb = np.cumsum(probability)\n",
        "accumulatedProb"
      ],
      "execution_count": null,
      "outputs": [
        {
          "output_type": "execute_result",
          "data": {
            "text/plain": [
              "array([0.21455848, 0.42911695, 0.64367543, 0.82183772, 1.        ])"
            ]
          },
          "metadata": {
            "tags": []
          },
          "execution_count": 20
        }
      ]
    },
    {
      "cell_type": "code",
      "metadata": {
        "id": "guDKUFQBBAHQ"
      },
      "source": [
        "import pandas as pd"
      ],
      "execution_count": null,
      "outputs": []
    },
    {
      "cell_type": "code",
      "metadata": {
        "colab": {
          "base_uri": "https://localhost:8080/",
          "height": 206
        },
        "id": "EjJboauXBCii",
        "outputId": "0d32fe71-3931-47d4-bf16-b06e080c56fa"
      },
      "source": [
        "df = pd.DataFrame(list(zip(sp,ff,probability,accumulatedProb)), columns = ['Individuo','F_Calidad','Probabilidad','Prob_Acum'])\n",
        "df"
      ],
      "execution_count": null,
      "outputs": [
        {
          "output_type": "execute_result",
          "data": {
            "text/html": [
              "<div>\n",
              "<style scoped>\n",
              "    .dataframe tbody tr th:only-of-type {\n",
              "        vertical-align: middle;\n",
              "    }\n",
              "\n",
              "    .dataframe tbody tr th {\n",
              "        vertical-align: top;\n",
              "    }\n",
              "\n",
              "    .dataframe thead th {\n",
              "        text-align: right;\n",
              "    }\n",
              "</style>\n",
              "<table border=\"1\" class=\"dataframe\">\n",
              "  <thead>\n",
              "    <tr style=\"text-align: right;\">\n",
              "      <th></th>\n",
              "      <th>Individuo</th>\n",
              "      <th>F_Calidad</th>\n",
              "      <th>Probabilidad</th>\n",
              "      <th>Prob_Acum</th>\n",
              "    </tr>\n",
              "  </thead>\n",
              "  <tbody>\n",
              "    <tr>\n",
              "      <th>0</th>\n",
              "      <td>[1, 0, 0, 0, 0, 0, 1, 0, 0, 0]</td>\n",
              "      <td>192.834196</td>\n",
              "      <td>0.214558</td>\n",
              "      <td>0.214558</td>\n",
              "    </tr>\n",
              "    <tr>\n",
              "      <th>1</th>\n",
              "      <td>[1, 0, 0, 0, 0, 0, 1, 0, 0, 0]</td>\n",
              "      <td>192.834196</td>\n",
              "      <td>0.214558</td>\n",
              "      <td>0.429117</td>\n",
              "    </tr>\n",
              "    <tr>\n",
              "      <th>2</th>\n",
              "      <td>[1, 0, 0, 0, 0, 0, 1, 0, 0, 0]</td>\n",
              "      <td>192.834196</td>\n",
              "      <td>0.214558</td>\n",
              "      <td>0.643675</td>\n",
              "    </tr>\n",
              "    <tr>\n",
              "      <th>3</th>\n",
              "      <td>[1, 0, 0, 0, 0, 0, 0, 0, 1, 0]</td>\n",
              "      <td>160.123158</td>\n",
              "      <td>0.178162</td>\n",
              "      <td>0.821838</td>\n",
              "    </tr>\n",
              "    <tr>\n",
              "      <th>4</th>\n",
              "      <td>[1, 0, 0, 0, 0, 0, 0, 0, 1, 0]</td>\n",
              "      <td>160.123158</td>\n",
              "      <td>0.178162</td>\n",
              "      <td>1.000000</td>\n",
              "    </tr>\n",
              "  </tbody>\n",
              "</table>\n",
              "</div>"
            ],
            "text/plain": [
              "                        Individuo   F_Calidad  Probabilidad  Prob_Acum\n",
              "0  [1, 0, 0, 0, 0, 0, 1, 0, 0, 0]  192.834196      0.214558   0.214558\n",
              "1  [1, 0, 0, 0, 0, 0, 1, 0, 0, 0]  192.834196      0.214558   0.429117\n",
              "2  [1, 0, 0, 0, 0, 0, 1, 0, 0, 0]  192.834196      0.214558   0.643675\n",
              "3  [1, 0, 0, 0, 0, 0, 0, 0, 1, 0]  160.123158      0.178162   0.821838\n",
              "4  [1, 0, 0, 0, 0, 0, 0, 0, 1, 0]  160.123158      0.178162   1.000000"
            ]
          },
          "metadata": {
            "tags": []
          },
          "execution_count": 22
        }
      ]
    },
    {
      "cell_type": "code",
      "metadata": {
        "id": "FpMo-AaqBUEK"
      },
      "source": [
        "import matplotlib.pyplot as plt\n"
      ],
      "execution_count": null,
      "outputs": []
    },
    {
      "cell_type": "code",
      "metadata": {
        "colab": {
          "base_uri": "https://localhost:8080/",
          "height": 248
        },
        "id": "kNHxtxj3BXjs",
        "outputId": "2634efb0-1d43-4505-985f-5de3eb07b2fc"
      },
      "source": [
        "labels = np.arange(len(probability))\n",
        "\n",
        "fig1,ax1 = plt.subplots()\n",
        "ax1.pie(probability, labels = labels, autopct = '%1.1f%%', startangle = 90)\n",
        "ax1.axis('equal')\n",
        "plt.show()"
      ],
      "execution_count": null,
      "outputs": [
        {
          "output_type": "display_data",
          "data": {
            "image/png": "[encoded data removed]",
            "text/plain": [
              "<Figure size 432x288 with 1 Axes>"
            ]
          },
          "metadata": {
            "tags": []
          }
        }
      ]
    },
    {
      "cell_type": "code",
      "metadata": {
        "id": "QFwIjvtjCW8m"
      },
      "source": [
        "def roulette(population):\n",
        "  ff = [fitnessFunct(i) for i in population]\n",
        "  probability = np.array(ff)/sum(ff)\n",
        "  accumulatedProb = np.cumsum(probability)\n",
        "  return accumulatedProb"
      ],
      "execution_count": null,
      "outputs": []
    },
    {
      "cell_type": "code",
      "metadata": {
        "id": "2Kp9yLckCpSe"
      },
      "source": [
        "accumulatedProb = roulette(population)"
      ],
      "execution_count": null,
      "outputs": []
    },
    {
      "cell_type": "code",
      "metadata": {
        "id": "4UJ9vAxPCvdO"
      },
      "source": [
        "def selection(population):\n",
        "  probAcum = roulette(population)\n",
        "  aleatorio = np.random.uniform(0,1)\n",
        "  ind = 0\n",
        "  for i in range(len(probAcum)):\n",
        "    if i == 0 and aleatorio < probAcum[i]:\n",
        "      ind = population[i]\n",
        "    elif aleatorio >= probAcum[i-1] and aleatorio < probAcum[i]:\n",
        "      ind = population[i]\n",
        "  return ind\n",
        "  "
      ],
      "execution_count": null,
      "outputs": []
    },
    {
      "cell_type": "code",
      "metadata": {
        "id": "zwFICkYVwOfY"
      },
      "source": [
        "def cruce(population, probCruce):\n",
        "  p1 = selection(population)\n",
        "  p2 = selection(population)\n",
        "  cruce = np.random.uniform(0,1)\n",
        "  if cruce > probCruce:\n",
        "    return [p1,p2]\n",
        "  ptomedio = np.random.randint(1,N-1)\n",
        "  h1 = p1[0:ptomedio]\n",
        "  for i in range(ptomedio,N):\n",
        "    np.append(h1,p2[i])\n",
        "  h2 = p2[0:ptomedio]\n",
        "  for i in range(ptomedio,N):\n",
        "    np.append(h2,p1[i])\n",
        "  \n",
        "  return [h1,h2] if valid(h1) and valid(h2) else [h1,p2] if valid(h1) and not valid(h2) else [p1,h1] if valid(h2) and not valid(h1) else [p1,p2]\n"
      ],
      "execution_count": null,
      "outputs": []
    },
    {
      "cell_type": "code",
      "metadata": {
        "id": "35jZ-ZboyDCN"
      },
      "source": [
        "def mutacion(population, probMutacion):\n",
        "  p = selection(population)\n",
        "  mutacion = np.random.uniform(0,1)\n",
        "  if mutacion>probMutacion:\n",
        "    return p\n",
        "  padre = p\n",
        "  index = np.random.randint(0,N)\n",
        "  p[index] = 1-p[index]\n",
        "  return p if valid(p) else mutacion(population, probMutacion)"
      ],
      "execution_count": null,
      "outputs": []
    },
    {
      "cell_type": "code",
      "metadata": {
        "id": "0UVgROujz2B5"
      },
      "source": [
        "def calidad(ind):\n",
        "  if valid(ind):\n",
        "    return sum(ind*precios)\n",
        "  return 0.1"
      ],
      "execution_count": null,
      "outputs": []
    },
    {
      "cell_type": "code",
      "metadata": {
        "id": "VMctjsiB1jgA"
      },
      "source": [
        "def algEvolutivo(N,Np,cantidadGeneraciones, limiteCalidad,probMutacion,probCruce):\n",
        "  population = generateFirstPopulation(N,Np)\n",
        "  best = np.zeros(N)\n",
        "  #print(best)\n",
        "  for i in range(cantidadGeneraciones):\n",
        "    population = sorted(population, key=calidad, reverse=True)\n",
        "    if calidad(population[0])>=limiteCalidad:\n",
        "      break\n",
        "    if calidad(best)<calidad(population[0]):\n",
        "      best = population[0]\n",
        "    newGeneration = []\n",
        "    while len(newGeneration)<Np:\n",
        "      crucep = cruce(population,probCruce)\n",
        "      for i in crucep:\n",
        "        if len(newGeneration)<Np:\n",
        "          newGeneration.append(i)\n",
        "      if len(newGeneration)<Np:\n",
        "        newGeneration.append(mutacion(population,probMutacion))\n",
        "    population = newGeneration\n",
        "  population = sorted(population,key = calidad,reverse=True)\n",
        "  return population"
      ],
      "execution_count": null,
      "outputs": []
    }
  ]
}