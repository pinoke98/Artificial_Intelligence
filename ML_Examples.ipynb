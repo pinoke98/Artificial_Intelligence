{
  "nbformat": 4,
  "nbformat_minor": 0,
  "metadata": {
    "colab": {
      "name": "ML_Examples.ipynb",
      "provenance": [],
      "collapsed_sections": [
        "9J7kKXeDGr9x"
      ],
      "authorship_tag": "ABX9TyMg9LTAAgfrXG8bHPNNVqz5",
      "include_colab_link": true
    },
    "kernelspec": {
      "name": "python3",
      "display_name": "Python 3"
    },
    "language_info": {
      "name": "python"
    }
  },
  "cells": [
    {
      "cell_type": "markdown",
      "metadata": {
        "id": "view-in-github",
        "colab_type": "text"
      },
      "source": [
        "<a href=\"https://colab.research.google.com/github/pinoke98/Artificial_Intelligence/blob/main/ML_Examples.ipynb\" target=\"_parent\"><img src=\"https://colab.research.google.com/assets/colab-badge.svg\" alt=\"Open In Colab\"/></a>"
      ]
    },
    {
      "cell_type": "markdown",
      "metadata": {
        "id": "zQ5_Ftoo-G3J"
      },
      "source": [
        "##Algoritmos de clasificacion Python"
      ]
    },
    {
      "cell_type": "markdown",
      "metadata": {
        "id": "jBjHuHUx-KMw"
      },
      "source": [
        "Scikit-learn es el paquete mas conocido de Python para algotimos de machine learning. \n",
        "Este tiene incluida algunas bases de datos para probar los algoritmos. \n",
        "Las bases incluidas en este paquete son objetos tipo diccionario"
      ]
    },
    {
      "cell_type": "code",
      "metadata": {
        "id": "w0UyKaM09a4Z"
      },
      "source": [
        "from sklearn import datasets\n",
        "import numpy as np\n",
        "import matplotlib.pyplot as plt"
      ],
      "execution_count": null,
      "outputs": []
    },
    {
      "cell_type": "code",
      "metadata": {
        "id": "7eFdMnY59c_z"
      },
      "source": [
        "iris = datasets.load_iris()\n",
        "X, y = iris.data, iris.target"
      ],
      "execution_count": null,
      "outputs": []
    },
    {
      "cell_type": "code",
      "metadata": {
        "colab": {
          "base_uri": "https://localhost:8080/"
        },
        "id": "7N_yDOoB9lkl",
        "outputId": "01bc79aa-e4fd-47b8-e5a5-88f4f741d791"
      },
      "source": [
        "print(iris.target_names)\n",
        "print(iris.feature_names)"
      ],
      "execution_count": null,
      "outputs": [
        {
          "output_type": "stream",
          "name": "stdout",
          "text": [
            "['setosa' 'versicolor' 'virginica']\n",
            "['sepal length (cm)', 'sepal width (cm)', 'petal length (cm)', 'petal width (cm)']\n"
          ]
        }
      ]
    },
    {
      "cell_type": "markdown",
      "metadata": {
        "id": "gMHFgpFp-oJV"
      },
      "source": [
        "###Arbol de decision\n"
      ]
    },
    {
      "cell_type": "code",
      "metadata": {
        "id": "6MwYB7YX-Am3"
      },
      "source": [
        "from sklearn import tree"
      ],
      "execution_count": null,
      "outputs": []
    },
    {
      "cell_type": "code",
      "metadata": {
        "id": "_DJpE14f-tdp"
      },
      "source": [
        "clf = tree.DecisionTreeClassifier()"
      ],
      "execution_count": null,
      "outputs": []
    },
    {
      "cell_type": "code",
      "metadata": {
        "id": "KmJIrzgi-1Py"
      },
      "source": [
        "clf_ig = tree.DecisionTreeClassifier(criterion=\"entropy\")"
      ],
      "execution_count": null,
      "outputs": []
    },
    {
      "cell_type": "code",
      "metadata": {
        "id": "uf_W6CyK-7Zt"
      },
      "source": [
        "clf = clf.fit(X,y)\n",
        "clf_ig = clf_ig.fit(X,y)"
      ],
      "execution_count": null,
      "outputs": []
    },
    {
      "cell_type": "code",
      "metadata": {
        "id": "cwFzq9aR_EZd"
      },
      "source": [
        "import graphviz"
      ],
      "execution_count": null,
      "outputs": []
    },
    {
      "cell_type": "code",
      "metadata": {
        "colab": {
          "base_uri": "https://localhost:8080/",
          "height": 916
        },
        "id": "m0vRTB2T_Gqr",
        "outputId": "0043d6fe-0676-4543-8b89-79dd7ce03e4b"
      },
      "source": [
        "dot_data = tree.export_graphviz(clf,out_file=None,\n",
        "                                feature_names=iris.feature_names,\n",
        "                                class_names = iris.target_names,\n",
        "                                filled = True, rounded = True,\n",
        "                                special_characters = True)\n",
        "DT = graphviz.Source(dot_data)\n",
        "DT"
      ],
      "execution_count": null,
      "outputs": [
        {
          "output_type": "execute_result",
          "data": {
            "text/plain": [
              "<graphviz.files.Source at 0x7f9fc81e97d0>"
            ],
            "image/svg+xml": "<?xml version=\"1.0\" encoding=\"UTF-8\" standalone=\"no\"?>\n<!DOCTYPE svg PUBLIC \"-//W3C//DTD SVG 1.1//EN\"\n \"http://www.w3.org/Graphics/SVG/1.1/DTD/svg11.dtd\">\n<!-- Generated by graphviz version 2.40.1 (20161225.0304)\n -->\n<!-- Title: Tree Pages: 1 -->\n<svg width=\"897pt\" height=\"671pt\"\n viewBox=\"0.00 0.00 896.50 671.00\" xmlns=\"http://www.w3.org/2000/svg\" xmlns:xlink=\"http://www.w3.org/1999/xlink\">\n<g id=\"graph0\" class=\"graph\" transform=\"scale(1 1) rotate(0) translate(4 667)\">\n<title>Tree</title>\n<polygon fill=\"#ffffff\" stroke=\"transparent\" points=\"-4,4 -4,-667 892.5,-667 892.5,4 -4,4\"/>\n<!-- 0 -->\n<g id=\"node1\" class=\"node\">\n<title>0</title>\n<path fill=\"#ffffff\" stroke=\"#000000\" d=\"M535.5,-663C535.5,-663 406.5,-663 406.5,-663 400.5,-663 394.5,-657 394.5,-651 394.5,-651 394.5,-592 394.5,-592 394.5,-586 400.5,-580 406.5,-580 406.5,-580 535.5,-580 535.5,-580 541.5,-580 547.5,-586 547.5,-592 547.5,-592 547.5,-651 547.5,-651 547.5,-657 541.5,-663 535.5,-663\"/>\n<text text-anchor=\"start\" x=\"402.5\" y=\"-647.8\" font-family=\"Helvetica,sans-Serif\" font-size=\"14.00\" fill=\"#000000\">petal width (cm) ≤ 0.8</text>\n<text text-anchor=\"start\" x=\"433\" y=\"-632.8\" font-family=\"Helvetica,sans-Serif\" font-size=\"14.00\" fill=\"#000000\">gini = 0.667</text>\n<text text-anchor=\"start\" x=\"423\" y=\"-617.8\" font-family=\"Helvetica,sans-Serif\" font-size=\"14.00\" fill=\"#000000\">samples = 150</text>\n<text text-anchor=\"start\" x=\"409\" y=\"-602.8\" font-family=\"Helvetica,sans-Serif\" font-size=\"14.00\" fill=\"#000000\">value = [50, 50, 50]</text>\n<text text-anchor=\"start\" x=\"424\" y=\"-587.8\" font-family=\"Helvetica,sans-Serif\" font-size=\"14.00\" fill=\"#000000\">class = setosa</text>\n</g>\n<!-- 1 -->\n<g id=\"node2\" class=\"node\">\n<title>1</title>\n<path fill=\"#e58139\" stroke=\"#000000\" d=\"M440.5,-536.5C440.5,-536.5 341.5,-536.5 341.5,-536.5 335.5,-536.5 329.5,-530.5 329.5,-524.5 329.5,-524.5 329.5,-480.5 329.5,-480.5 329.5,-474.5 335.5,-468.5 341.5,-468.5 341.5,-468.5 440.5,-468.5 440.5,-468.5 446.5,-468.5 452.5,-474.5 452.5,-480.5 452.5,-480.5 452.5,-524.5 452.5,-524.5 452.5,-530.5 446.5,-536.5 440.5,-536.5\"/>\n<text text-anchor=\"start\" x=\"361.5\" y=\"-521.3\" font-family=\"Helvetica,sans-Serif\" font-size=\"14.00\" fill=\"#000000\">gini = 0.0</text>\n<text text-anchor=\"start\" x=\"347\" y=\"-506.3\" font-family=\"Helvetica,sans-Serif\" font-size=\"14.00\" fill=\"#000000\">samples = 50</text>\n<text text-anchor=\"start\" x=\"337.5\" y=\"-491.3\" font-family=\"Helvetica,sans-Serif\" font-size=\"14.00\" fill=\"#000000\">value = [50, 0, 0]</text>\n<text text-anchor=\"start\" x=\"344\" y=\"-476.3\" font-family=\"Helvetica,sans-Serif\" font-size=\"14.00\" fill=\"#000000\">class = setosa</text>\n</g>\n<!-- 0&#45;&gt;1 -->\n<g id=\"edge1\" class=\"edge\">\n<title>0&#45;&gt;1</title>\n<path fill=\"none\" stroke=\"#000000\" d=\"M443.0199,-579.8796C435.4797,-568.6636 427.3113,-556.5131 419.7309,-545.2372\"/>\n<polygon fill=\"#000000\" stroke=\"#000000\" points=\"422.5527,-543.1612 414.0689,-536.8149 416.7434,-547.0667 422.5527,-543.1612\"/>\n<text text-anchor=\"middle\" x=\"409.2608\" y=\"-557.6482\" font-family=\"Helvetica,sans-Serif\" font-size=\"14.00\" fill=\"#000000\">True</text>\n</g>\n<!-- 2 -->\n<g id=\"node3\" class=\"node\">\n<title>2</title>\n<path fill=\"#ffffff\" stroke=\"#000000\" d=\"M619.5,-544C619.5,-544 482.5,-544 482.5,-544 476.5,-544 470.5,-538 470.5,-532 470.5,-532 470.5,-473 470.5,-473 470.5,-467 476.5,-461 482.5,-461 482.5,-461 619.5,-461 619.5,-461 625.5,-461 631.5,-467 631.5,-473 631.5,-473 631.5,-532 631.5,-532 631.5,-538 625.5,-544 619.5,-544\"/>\n<text text-anchor=\"start\" x=\"478.5\" y=\"-528.8\" font-family=\"Helvetica,sans-Serif\" font-size=\"14.00\" fill=\"#000000\">petal width (cm) ≤ 1.75</text>\n<text text-anchor=\"start\" x=\"521.5\" y=\"-513.8\" font-family=\"Helvetica,sans-Serif\" font-size=\"14.00\" fill=\"#000000\">gini = 0.5</text>\n<text text-anchor=\"start\" x=\"503\" y=\"-498.8\" font-family=\"Helvetica,sans-Serif\" font-size=\"14.00\" fill=\"#000000\">samples = 100</text>\n<text text-anchor=\"start\" x=\"493.5\" y=\"-483.8\" font-family=\"Helvetica,sans-Serif\" font-size=\"14.00\" fill=\"#000000\">value = [0, 50, 50]</text>\n<text text-anchor=\"start\" x=\"495\" y=\"-468.8\" font-family=\"Helvetica,sans-Serif\" font-size=\"14.00\" fill=\"#000000\">class = versicolor</text>\n</g>\n<!-- 0&#45;&gt;2 -->\n<g id=\"edge2\" class=\"edge\">\n<title>0&#45;&gt;2</title>\n<path fill=\"none\" stroke=\"#000000\" d=\"M498.9801,-579.8796C504.8531,-571.1434 511.1073,-561.8404 517.1679,-552.8253\"/>\n<polygon fill=\"#000000\" stroke=\"#000000\" points=\"520.2259,-554.5498 522.9005,-544.2981 514.4166,-550.6444 520.2259,-554.5498\"/>\n<text text-anchor=\"middle\" x=\"527.7085\" y=\"-565.1314\" font-family=\"Helvetica,sans-Serif\" font-size=\"14.00\" fill=\"#000000\">False</text>\n</g>\n<!-- 3 -->\n<g id=\"node4\" class=\"node\">\n<title>3</title>\n<path fill=\"#4de88e\" stroke=\"#000000\" d=\"M505.5,-425C505.5,-425 362.5,-425 362.5,-425 356.5,-425 350.5,-419 350.5,-413 350.5,-413 350.5,-354 350.5,-354 350.5,-348 356.5,-342 362.5,-342 362.5,-342 505.5,-342 505.5,-342 511.5,-342 517.5,-348 517.5,-354 517.5,-354 517.5,-413 517.5,-413 517.5,-419 511.5,-425 505.5,-425\"/>\n<text text-anchor=\"start\" x=\"358.5\" y=\"-409.8\" font-family=\"Helvetica,sans-Serif\" font-size=\"14.00\" fill=\"#000000\">petal length (cm) ≤ 4.95</text>\n<text text-anchor=\"start\" x=\"396\" y=\"-394.8\" font-family=\"Helvetica,sans-Serif\" font-size=\"14.00\" fill=\"#000000\">gini = 0.168</text>\n<text text-anchor=\"start\" x=\"390\" y=\"-379.8\" font-family=\"Helvetica,sans-Serif\" font-size=\"14.00\" fill=\"#000000\">samples = 54</text>\n<text text-anchor=\"start\" x=\"380.5\" y=\"-364.8\" font-family=\"Helvetica,sans-Serif\" font-size=\"14.00\" fill=\"#000000\">value = [0, 49, 5]</text>\n<text text-anchor=\"start\" x=\"378\" y=\"-349.8\" font-family=\"Helvetica,sans-Serif\" font-size=\"14.00\" fill=\"#000000\">class = versicolor</text>\n</g>\n<!-- 2&#45;&gt;3 -->\n<g id=\"edge3\" class=\"edge\">\n<title>2&#45;&gt;3</title>\n<path fill=\"none\" stroke=\"#000000\" d=\"M510.0791,-460.8796C501.047,-451.6931 491.3987,-441.8798 482.1112,-432.4336\"/>\n<polygon fill=\"#000000\" stroke=\"#000000\" points=\"484.6023,-429.975 475.0956,-425.2981 479.6107,-434.8827 484.6023,-429.975\"/>\n</g>\n<!-- 12 -->\n<g id=\"node13\" class=\"node\">\n<title>12</title>\n<path fill=\"#843de6\" stroke=\"#000000\" d=\"M740.5,-425C740.5,-425 597.5,-425 597.5,-425 591.5,-425 585.5,-419 585.5,-413 585.5,-413 585.5,-354 585.5,-354 585.5,-348 591.5,-342 597.5,-342 597.5,-342 740.5,-342 740.5,-342 746.5,-342 752.5,-348 752.5,-354 752.5,-354 752.5,-413 752.5,-413 752.5,-419 746.5,-425 740.5,-425\"/>\n<text text-anchor=\"start\" x=\"593.5\" y=\"-409.8\" font-family=\"Helvetica,sans-Serif\" font-size=\"14.00\" fill=\"#000000\">petal length (cm) ≤ 4.85</text>\n<text text-anchor=\"start\" x=\"631\" y=\"-394.8\" font-family=\"Helvetica,sans-Serif\" font-size=\"14.00\" fill=\"#000000\">gini = 0.043</text>\n<text text-anchor=\"start\" x=\"625\" y=\"-379.8\" font-family=\"Helvetica,sans-Serif\" font-size=\"14.00\" fill=\"#000000\">samples = 46</text>\n<text text-anchor=\"start\" x=\"615.5\" y=\"-364.8\" font-family=\"Helvetica,sans-Serif\" font-size=\"14.00\" fill=\"#000000\">value = [0, 1, 45]</text>\n<text text-anchor=\"start\" x=\"617.5\" y=\"-349.8\" font-family=\"Helvetica,sans-Serif\" font-size=\"14.00\" fill=\"#000000\">class = virginica</text>\n</g>\n<!-- 2&#45;&gt;12 -->\n<g id=\"edge12\" class=\"edge\">\n<title>2&#45;&gt;12</title>\n<path fill=\"none\" stroke=\"#000000\" d=\"M592.2707,-460.8796C601.3799,-451.6931 611.1108,-441.8798 620.4776,-432.4336\"/>\n<polygon fill=\"#000000\" stroke=\"#000000\" points=\"622.9973,-434.8634 627.5532,-425.2981 618.0267,-429.9345 622.9973,-434.8634\"/>\n</g>\n<!-- 4 -->\n<g id=\"node5\" class=\"node\">\n<title>4</title>\n<path fill=\"#3de684\" stroke=\"#000000\" d=\"M274.5,-306C274.5,-306 137.5,-306 137.5,-306 131.5,-306 125.5,-300 125.5,-294 125.5,-294 125.5,-235 125.5,-235 125.5,-229 131.5,-223 137.5,-223 137.5,-223 274.5,-223 274.5,-223 280.5,-223 286.5,-229 286.5,-235 286.5,-235 286.5,-294 286.5,-294 286.5,-300 280.5,-306 274.5,-306\"/>\n<text text-anchor=\"start\" x=\"133.5\" y=\"-290.8\" font-family=\"Helvetica,sans-Serif\" font-size=\"14.00\" fill=\"#000000\">petal width (cm) ≤ 1.65</text>\n<text text-anchor=\"start\" x=\"168\" y=\"-275.8\" font-family=\"Helvetica,sans-Serif\" font-size=\"14.00\" fill=\"#000000\">gini = 0.041</text>\n<text text-anchor=\"start\" x=\"162\" y=\"-260.8\" font-family=\"Helvetica,sans-Serif\" font-size=\"14.00\" fill=\"#000000\">samples = 48</text>\n<text text-anchor=\"start\" x=\"152.5\" y=\"-245.8\" font-family=\"Helvetica,sans-Serif\" font-size=\"14.00\" fill=\"#000000\">value = [0, 47, 1]</text>\n<text text-anchor=\"start\" x=\"150\" y=\"-230.8\" font-family=\"Helvetica,sans-Serif\" font-size=\"14.00\" fill=\"#000000\">class = versicolor</text>\n</g>\n<!-- 3&#45;&gt;4 -->\n<g id=\"edge4\" class=\"edge\">\n<title>3&#45;&gt;4</title>\n<path fill=\"none\" stroke=\"#000000\" d=\"M354.2567,-341.8796C334.9914,-331.8244 314.2871,-321.0183 294.6413,-310.7645\"/>\n<polygon fill=\"#000000\" stroke=\"#000000\" points=\"296.1829,-307.6212 285.6983,-306.0969 292.944,-313.8268 296.1829,-307.6212\"/>\n</g>\n<!-- 7 -->\n<g id=\"node8\" class=\"node\">\n<title>7</title>\n<path fill=\"#c09cf2\" stroke=\"#000000\" d=\"M502.5,-306C502.5,-306 365.5,-306 365.5,-306 359.5,-306 353.5,-300 353.5,-294 353.5,-294 353.5,-235 353.5,-235 353.5,-229 359.5,-223 365.5,-223 365.5,-223 502.5,-223 502.5,-223 508.5,-223 514.5,-229 514.5,-235 514.5,-235 514.5,-294 514.5,-294 514.5,-300 508.5,-306 502.5,-306\"/>\n<text text-anchor=\"start\" x=\"361.5\" y=\"-290.8\" font-family=\"Helvetica,sans-Serif\" font-size=\"14.00\" fill=\"#000000\">petal width (cm) ≤ 1.55</text>\n<text text-anchor=\"start\" x=\"396\" y=\"-275.8\" font-family=\"Helvetica,sans-Serif\" font-size=\"14.00\" fill=\"#000000\">gini = 0.444</text>\n<text text-anchor=\"start\" x=\"394.5\" y=\"-260.8\" font-family=\"Helvetica,sans-Serif\" font-size=\"14.00\" fill=\"#000000\">samples = 6</text>\n<text text-anchor=\"start\" x=\"384.5\" y=\"-245.8\" font-family=\"Helvetica,sans-Serif\" font-size=\"14.00\" fill=\"#000000\">value = [0, 2, 4]</text>\n<text text-anchor=\"start\" x=\"382.5\" y=\"-230.8\" font-family=\"Helvetica,sans-Serif\" font-size=\"14.00\" fill=\"#000000\">class = virginica</text>\n</g>\n<!-- 3&#45;&gt;7 -->\n<g id=\"edge7\" class=\"edge\">\n<title>3&#45;&gt;7</title>\n<path fill=\"none\" stroke=\"#000000\" d=\"M434,-341.8796C434,-333.6838 434,-324.9891 434,-316.5013\"/>\n<polygon fill=\"#000000\" stroke=\"#000000\" points=\"437.5001,-316.298 434,-306.2981 430.5001,-316.2981 437.5001,-316.298\"/>\n</g>\n<!-- 5 -->\n<g id=\"node6\" class=\"node\">\n<title>5</title>\n<path fill=\"#39e581\" stroke=\"#000000\" d=\"M116,-179.5C116,-179.5 12,-179.5 12,-179.5 6,-179.5 0,-173.5 0,-167.5 0,-167.5 0,-123.5 0,-123.5 0,-117.5 6,-111.5 12,-111.5 12,-111.5 116,-111.5 116,-111.5 122,-111.5 128,-117.5 128,-123.5 128,-123.5 128,-167.5 128,-167.5 128,-173.5 122,-179.5 116,-179.5\"/>\n<text text-anchor=\"start\" x=\"34.5\" y=\"-164.3\" font-family=\"Helvetica,sans-Serif\" font-size=\"14.00\" fill=\"#000000\">gini = 0.0</text>\n<text text-anchor=\"start\" x=\"20\" y=\"-149.3\" font-family=\"Helvetica,sans-Serif\" font-size=\"14.00\" fill=\"#000000\">samples = 47</text>\n<text text-anchor=\"start\" x=\"10.5\" y=\"-134.3\" font-family=\"Helvetica,sans-Serif\" font-size=\"14.00\" fill=\"#000000\">value = [0, 47, 0]</text>\n<text text-anchor=\"start\" x=\"8\" y=\"-119.3\" font-family=\"Helvetica,sans-Serif\" font-size=\"14.00\" fill=\"#000000\">class = versicolor</text>\n</g>\n<!-- 4&#45;&gt;5 -->\n<g id=\"edge5\" class=\"edge\">\n<title>4&#45;&gt;5</title>\n<path fill=\"none\" stroke=\"#000000\" d=\"M156.3353,-222.8796C142.1642,-211.0038 126.743,-198.0804 112.6342,-186.2568\"/>\n<polygon fill=\"#000000\" stroke=\"#000000\" points=\"114.8598,-183.5554 104.9472,-179.8149 110.3637,-188.9206 114.8598,-183.5554\"/>\n</g>\n<!-- 6 -->\n<g id=\"node7\" class=\"node\">\n<title>6</title>\n<path fill=\"#8139e5\" stroke=\"#000000\" d=\"M253.5,-179.5C253.5,-179.5 158.5,-179.5 158.5,-179.5 152.5,-179.5 146.5,-173.5 146.5,-167.5 146.5,-167.5 146.5,-123.5 146.5,-123.5 146.5,-117.5 152.5,-111.5 158.5,-111.5 158.5,-111.5 253.5,-111.5 253.5,-111.5 259.5,-111.5 265.5,-117.5 265.5,-123.5 265.5,-123.5 265.5,-167.5 265.5,-167.5 265.5,-173.5 259.5,-179.5 253.5,-179.5\"/>\n<text text-anchor=\"start\" x=\"176.5\" y=\"-164.3\" font-family=\"Helvetica,sans-Serif\" font-size=\"14.00\" fill=\"#000000\">gini = 0.0</text>\n<text text-anchor=\"start\" x=\"166.5\" y=\"-149.3\" font-family=\"Helvetica,sans-Serif\" font-size=\"14.00\" fill=\"#000000\">samples = 1</text>\n<text text-anchor=\"start\" x=\"156.5\" y=\"-134.3\" font-family=\"Helvetica,sans-Serif\" font-size=\"14.00\" fill=\"#000000\">value = [0, 0, 1]</text>\n<text text-anchor=\"start\" x=\"154.5\" y=\"-119.3\" font-family=\"Helvetica,sans-Serif\" font-size=\"14.00\" fill=\"#000000\">class = virginica</text>\n</g>\n<!-- 4&#45;&gt;6 -->\n<g id=\"edge6\" class=\"edge\">\n<title>4&#45;&gt;6</title>\n<path fill=\"none\" stroke=\"#000000\" d=\"M206,-222.8796C206,-212.2134 206,-200.7021 206,-189.9015\"/>\n<polygon fill=\"#000000\" stroke=\"#000000\" points=\"209.5001,-189.8149 206,-179.8149 202.5001,-189.815 209.5001,-189.8149\"/>\n</g>\n<!-- 8 -->\n<g id=\"node9\" class=\"node\">\n<title>8</title>\n<path fill=\"#8139e5\" stroke=\"#000000\" d=\"M390.5,-179.5C390.5,-179.5 295.5,-179.5 295.5,-179.5 289.5,-179.5 283.5,-173.5 283.5,-167.5 283.5,-167.5 283.5,-123.5 283.5,-123.5 283.5,-117.5 289.5,-111.5 295.5,-111.5 295.5,-111.5 390.5,-111.5 390.5,-111.5 396.5,-111.5 402.5,-117.5 402.5,-123.5 402.5,-123.5 402.5,-167.5 402.5,-167.5 402.5,-173.5 396.5,-179.5 390.5,-179.5\"/>\n<text text-anchor=\"start\" x=\"313.5\" y=\"-164.3\" font-family=\"Helvetica,sans-Serif\" font-size=\"14.00\" fill=\"#000000\">gini = 0.0</text>\n<text text-anchor=\"start\" x=\"303.5\" y=\"-149.3\" font-family=\"Helvetica,sans-Serif\" font-size=\"14.00\" fill=\"#000000\">samples = 3</text>\n<text text-anchor=\"start\" x=\"293.5\" y=\"-134.3\" font-family=\"Helvetica,sans-Serif\" font-size=\"14.00\" fill=\"#000000\">value = [0, 0, 3]</text>\n<text text-anchor=\"start\" x=\"291.5\" y=\"-119.3\" font-family=\"Helvetica,sans-Serif\" font-size=\"14.00\" fill=\"#000000\">class = virginica</text>\n</g>\n<!-- 7&#45;&gt;8 -->\n<g id=\"edge8\" class=\"edge\">\n<title>7&#45;&gt;8</title>\n<path fill=\"none\" stroke=\"#000000\" d=\"M402.1726,-222.8796C393.5116,-211.5536 384.1219,-199.2748 375.428,-187.9058\"/>\n<polygon fill=\"#000000\" stroke=\"#000000\" points=\"378.0956,-185.6324 369.2408,-179.8149 372.5351,-189.8846 378.0956,-185.6324\"/>\n</g>\n<!-- 9 -->\n<g id=\"node10\" class=\"node\">\n<title>9</title>\n<path fill=\"#9cf2c0\" stroke=\"#000000\" d=\"M579.5,-187C579.5,-187 432.5,-187 432.5,-187 426.5,-187 420.5,-181 420.5,-175 420.5,-175 420.5,-116 420.5,-116 420.5,-110 426.5,-104 432.5,-104 432.5,-104 579.5,-104 579.5,-104 585.5,-104 591.5,-110 591.5,-116 591.5,-116 591.5,-175 591.5,-175 591.5,-181 585.5,-187 579.5,-187\"/>\n<text text-anchor=\"start\" x=\"428.5\" y=\"-171.8\" font-family=\"Helvetica,sans-Serif\" font-size=\"14.00\" fill=\"#000000\">sepal length (cm) ≤ 6.95</text>\n<text text-anchor=\"start\" x=\"468\" y=\"-156.8\" font-family=\"Helvetica,sans-Serif\" font-size=\"14.00\" fill=\"#000000\">gini = 0.444</text>\n<text text-anchor=\"start\" x=\"466.5\" y=\"-141.8\" font-family=\"Helvetica,sans-Serif\" font-size=\"14.00\" fill=\"#000000\">samples = 3</text>\n<text text-anchor=\"start\" x=\"456.5\" y=\"-126.8\" font-family=\"Helvetica,sans-Serif\" font-size=\"14.00\" fill=\"#000000\">value = [0, 2, 1]</text>\n<text text-anchor=\"start\" x=\"450\" y=\"-111.8\" font-family=\"Helvetica,sans-Serif\" font-size=\"14.00\" fill=\"#000000\">class = versicolor</text>\n</g>\n<!-- 7&#45;&gt;9 -->\n<g id=\"edge9\" class=\"edge\">\n<title>7&#45;&gt;9</title>\n<path fill=\"none\" stroke=\"#000000\" d=\"M459.1821,-222.8796C464.4133,-214.2335 469.9805,-205.0322 475.3823,-196.1042\"/>\n<polygon fill=\"#000000\" stroke=\"#000000\" points=\"478.5283,-197.6658 480.7104,-187.2981 472.5392,-194.0421 478.5283,-197.6658\"/>\n</g>\n<!-- 10 -->\n<g id=\"node11\" class=\"node\">\n<title>10</title>\n<path fill=\"#39e581\" stroke=\"#000000\" d=\"M487,-68C487,-68 383,-68 383,-68 377,-68 371,-62 371,-56 371,-56 371,-12 371,-12 371,-6 377,0 383,0 383,0 487,0 487,0 493,0 499,-6 499,-12 499,-12 499,-56 499,-56 499,-62 493,-68 487,-68\"/>\n<text text-anchor=\"start\" x=\"405.5\" y=\"-52.8\" font-family=\"Helvetica,sans-Serif\" font-size=\"14.00\" fill=\"#000000\">gini = 0.0</text>\n<text text-anchor=\"start\" x=\"395.5\" y=\"-37.8\" font-family=\"Helvetica,sans-Serif\" font-size=\"14.00\" fill=\"#000000\">samples = 2</text>\n<text text-anchor=\"start\" x=\"385.5\" y=\"-22.8\" font-family=\"Helvetica,sans-Serif\" font-size=\"14.00\" fill=\"#000000\">value = [0, 2, 0]</text>\n<text text-anchor=\"start\" x=\"379\" y=\"-7.8\" font-family=\"Helvetica,sans-Serif\" font-size=\"14.00\" fill=\"#000000\">class = versicolor</text>\n</g>\n<!-- 9&#45;&gt;10 -->\n<g id=\"edge10\" class=\"edge\">\n<title>9&#45;&gt;10</title>\n<path fill=\"none\" stroke=\"#000000\" d=\"M479.5622,-103.9815C473.944,-95.1585 468.0012,-85.8258 462.3497,-76.9506\"/>\n<polygon fill=\"#000000\" stroke=\"#000000\" points=\"465.1416,-74.8188 456.8181,-68.2637 459.2371,-78.5787 465.1416,-74.8188\"/>\n</g>\n<!-- 11 -->\n<g id=\"node12\" class=\"node\">\n<title>11</title>\n<path fill=\"#8139e5\" stroke=\"#000000\" d=\"M624.5,-68C624.5,-68 529.5,-68 529.5,-68 523.5,-68 517.5,-62 517.5,-56 517.5,-56 517.5,-12 517.5,-12 517.5,-6 523.5,0 529.5,0 529.5,0 624.5,0 624.5,0 630.5,0 636.5,-6 636.5,-12 636.5,-12 636.5,-56 636.5,-56 636.5,-62 630.5,-68 624.5,-68\"/>\n<text text-anchor=\"start\" x=\"547.5\" y=\"-52.8\" font-family=\"Helvetica,sans-Serif\" font-size=\"14.00\" fill=\"#000000\">gini = 0.0</text>\n<text text-anchor=\"start\" x=\"537.5\" y=\"-37.8\" font-family=\"Helvetica,sans-Serif\" font-size=\"14.00\" fill=\"#000000\">samples = 1</text>\n<text text-anchor=\"start\" x=\"527.5\" y=\"-22.8\" font-family=\"Helvetica,sans-Serif\" font-size=\"14.00\" fill=\"#000000\">value = [0, 0, 1]</text>\n<text text-anchor=\"start\" x=\"525.5\" y=\"-7.8\" font-family=\"Helvetica,sans-Serif\" font-size=\"14.00\" fill=\"#000000\">class = virginica</text>\n</g>\n<!-- 9&#45;&gt;11 -->\n<g id=\"edge11\" class=\"edge\">\n<title>9&#45;&gt;11</title>\n<path fill=\"none\" stroke=\"#000000\" d=\"M532.4378,-103.9815C538.056,-95.1585 543.9988,-85.8258 549.6503,-76.9506\"/>\n<polygon fill=\"#000000\" stroke=\"#000000\" points=\"552.7629,-78.5787 555.1819,-68.2637 546.8584,-74.8188 552.7629,-78.5787\"/>\n</g>\n<!-- 13 -->\n<g id=\"node14\" class=\"node\">\n<title>13</title>\n<path fill=\"#c09cf2\" stroke=\"#000000\" d=\"M735.5,-306C735.5,-306 602.5,-306 602.5,-306 596.5,-306 590.5,-300 590.5,-294 590.5,-294 590.5,-235 590.5,-235 590.5,-229 596.5,-223 602.5,-223 602.5,-223 735.5,-223 735.5,-223 741.5,-223 747.5,-229 747.5,-235 747.5,-235 747.5,-294 747.5,-294 747.5,-300 741.5,-306 735.5,-306\"/>\n<text text-anchor=\"start\" x=\"598.5\" y=\"-290.8\" font-family=\"Helvetica,sans-Serif\" font-size=\"14.00\" fill=\"#000000\">sepal width (cm) ≤ 3.1</text>\n<text text-anchor=\"start\" x=\"631\" y=\"-275.8\" font-family=\"Helvetica,sans-Serif\" font-size=\"14.00\" fill=\"#000000\">gini = 0.444</text>\n<text text-anchor=\"start\" x=\"629.5\" y=\"-260.8\" font-family=\"Helvetica,sans-Serif\" font-size=\"14.00\" fill=\"#000000\">samples = 3</text>\n<text text-anchor=\"start\" x=\"619.5\" y=\"-245.8\" font-family=\"Helvetica,sans-Serif\" font-size=\"14.00\" fill=\"#000000\">value = [0, 1, 2]</text>\n<text text-anchor=\"start\" x=\"617.5\" y=\"-230.8\" font-family=\"Helvetica,sans-Serif\" font-size=\"14.00\" fill=\"#000000\">class = virginica</text>\n</g>\n<!-- 12&#45;&gt;13 -->\n<g id=\"edge13\" class=\"edge\">\n<title>12&#45;&gt;13</title>\n<path fill=\"none\" stroke=\"#000000\" d=\"M669,-341.8796C669,-333.6838 669,-324.9891 669,-316.5013\"/>\n<polygon fill=\"#000000\" stroke=\"#000000\" points=\"672.5001,-316.298 669,-306.2981 665.5001,-316.2981 672.5001,-316.298\"/>\n</g>\n<!-- 16 -->\n<g id=\"node17\" class=\"node\">\n<title>16</title>\n<path fill=\"#8139e5\" stroke=\"#000000\" d=\"M876.5,-298.5C876.5,-298.5 777.5,-298.5 777.5,-298.5 771.5,-298.5 765.5,-292.5 765.5,-286.5 765.5,-286.5 765.5,-242.5 765.5,-242.5 765.5,-236.5 771.5,-230.5 777.5,-230.5 777.5,-230.5 876.5,-230.5 876.5,-230.5 882.5,-230.5 888.5,-236.5 888.5,-242.5 888.5,-242.5 888.5,-286.5 888.5,-286.5 888.5,-292.5 882.5,-298.5 876.5,-298.5\"/>\n<text text-anchor=\"start\" x=\"797.5\" y=\"-283.3\" font-family=\"Helvetica,sans-Serif\" font-size=\"14.00\" fill=\"#000000\">gini = 0.0</text>\n<text text-anchor=\"start\" x=\"783\" y=\"-268.3\" font-family=\"Helvetica,sans-Serif\" font-size=\"14.00\" fill=\"#000000\">samples = 43</text>\n<text text-anchor=\"start\" x=\"773.5\" y=\"-253.3\" font-family=\"Helvetica,sans-Serif\" font-size=\"14.00\" fill=\"#000000\">value = [0, 0, 43]</text>\n<text text-anchor=\"start\" x=\"775.5\" y=\"-238.3\" font-family=\"Helvetica,sans-Serif\" font-size=\"14.00\" fill=\"#000000\">class = virginica</text>\n</g>\n<!-- 12&#45;&gt;16 -->\n<g id=\"edge16\" class=\"edge\">\n<title>12&#45;&gt;16</title>\n<path fill=\"none\" stroke=\"#000000\" d=\"M724.2607,-341.8796C740.2503,-329.8368 757.6703,-316.7167 773.5474,-304.7586\"/>\n<polygon fill=\"#000000\" stroke=\"#000000\" points=\"775.8116,-307.435 781.6938,-298.623 771.6002,-301.8435 775.8116,-307.435\"/>\n</g>\n<!-- 14 -->\n<g id=\"node15\" class=\"node\">\n<title>14</title>\n<path fill=\"#8139e5\" stroke=\"#000000\" d=\"M716.5,-179.5C716.5,-179.5 621.5,-179.5 621.5,-179.5 615.5,-179.5 609.5,-173.5 609.5,-167.5 609.5,-167.5 609.5,-123.5 609.5,-123.5 609.5,-117.5 615.5,-111.5 621.5,-111.5 621.5,-111.5 716.5,-111.5 716.5,-111.5 722.5,-111.5 728.5,-117.5 728.5,-123.5 728.5,-123.5 728.5,-167.5 728.5,-167.5 728.5,-173.5 722.5,-179.5 716.5,-179.5\"/>\n<text text-anchor=\"start\" x=\"639.5\" y=\"-164.3\" font-family=\"Helvetica,sans-Serif\" font-size=\"14.00\" fill=\"#000000\">gini = 0.0</text>\n<text text-anchor=\"start\" x=\"629.5\" y=\"-149.3\" font-family=\"Helvetica,sans-Serif\" font-size=\"14.00\" fill=\"#000000\">samples = 2</text>\n<text text-anchor=\"start\" x=\"619.5\" y=\"-134.3\" font-family=\"Helvetica,sans-Serif\" font-size=\"14.00\" fill=\"#000000\">value = [0, 0, 2]</text>\n<text text-anchor=\"start\" x=\"617.5\" y=\"-119.3\" font-family=\"Helvetica,sans-Serif\" font-size=\"14.00\" fill=\"#000000\">class = virginica</text>\n</g>\n<!-- 13&#45;&gt;14 -->\n<g id=\"edge14\" class=\"edge\">\n<title>13&#45;&gt;14</title>\n<path fill=\"none\" stroke=\"#000000\" d=\"M669,-222.8796C669,-212.2134 669,-200.7021 669,-189.9015\"/>\n<polygon fill=\"#000000\" stroke=\"#000000\" points=\"672.5001,-189.8149 669,-179.8149 665.5001,-189.815 672.5001,-189.8149\"/>\n</g>\n<!-- 15 -->\n<g id=\"node16\" class=\"node\">\n<title>15</title>\n<path fill=\"#39e581\" stroke=\"#000000\" d=\"M863,-179.5C863,-179.5 759,-179.5 759,-179.5 753,-179.5 747,-173.5 747,-167.5 747,-167.5 747,-123.5 747,-123.5 747,-117.5 753,-111.5 759,-111.5 759,-111.5 863,-111.5 863,-111.5 869,-111.5 875,-117.5 875,-123.5 875,-123.5 875,-167.5 875,-167.5 875,-173.5 869,-179.5 863,-179.5\"/>\n<text text-anchor=\"start\" x=\"781.5\" y=\"-164.3\" font-family=\"Helvetica,sans-Serif\" font-size=\"14.00\" fill=\"#000000\">gini = 0.0</text>\n<text text-anchor=\"start\" x=\"771.5\" y=\"-149.3\" font-family=\"Helvetica,sans-Serif\" font-size=\"14.00\" fill=\"#000000\">samples = 1</text>\n<text text-anchor=\"start\" x=\"761.5\" y=\"-134.3\" font-family=\"Helvetica,sans-Serif\" font-size=\"14.00\" fill=\"#000000\">value = [0, 1, 0]</text>\n<text text-anchor=\"start\" x=\"755\" y=\"-119.3\" font-family=\"Helvetica,sans-Serif\" font-size=\"14.00\" fill=\"#000000\">class = versicolor</text>\n</g>\n<!-- 13&#45;&gt;15 -->\n<g id=\"edge15\" class=\"edge\">\n<title>13&#45;&gt;15</title>\n<path fill=\"none\" stroke=\"#000000\" d=\"M718.6647,-222.8796C732.8358,-211.0038 748.257,-198.0804 762.3658,-186.2568\"/>\n<polygon fill=\"#000000\" stroke=\"#000000\" points=\"764.6363,-188.9206 770.0528,-179.8149 760.1402,-183.5554 764.6363,-188.9206\"/>\n</g>\n</g>\n</svg>\n"
          },
          "metadata": {},
          "execution_count": 60
        }
      ]
    },
    {
      "cell_type": "code",
      "metadata": {
        "colab": {
          "base_uri": "https://localhost:8080/",
          "height": 916
        },
        "id": "WjPKz9wb_uKT",
        "outputId": "1595a3b0-83b9-44c3-908f-db0e700b0ff9"
      },
      "source": [
        "dot_data = tree.export_graphviz(clf_ig,out_file=None,\n",
        "                                feature_names=iris.feature_names,\n",
        "                                class_names = iris.target_names,\n",
        "                                filled = True, rounded = True,\n",
        "                                special_characters = True)\n",
        "DT = graphviz.Source(dot_data)\n",
        "DT"
      ],
      "execution_count": null,
      "outputs": [
        {
          "output_type": "execute_result",
          "data": {
            "text/plain": [
              "<graphviz.files.Source at 0x7f9fc8223b90>"
            ],
            "image/svg+xml": "<?xml version=\"1.0\" encoding=\"UTF-8\" standalone=\"no\"?>\n<!DOCTYPE svg PUBLIC \"-//W3C//DTD SVG 1.1//EN\"\n \"http://www.w3.org/Graphics/SVG/1.1/DTD/svg11.dtd\">\n<!-- Generated by graphviz version 2.40.1 (20161225.0304)\n -->\n<!-- Title: Tree Pages: 1 -->\n<svg width=\"909pt\" height=\"671pt\"\n viewBox=\"0.00 0.00 908.50 671.00\" xmlns=\"http://www.w3.org/2000/svg\" xmlns:xlink=\"http://www.w3.org/1999/xlink\">\n<g id=\"graph0\" class=\"graph\" transform=\"scale(1 1) rotate(0) translate(4 667)\">\n<title>Tree</title>\n<polygon fill=\"#ffffff\" stroke=\"transparent\" points=\"-4,4 -4,-667 904.5,-667 904.5,4 -4,4\"/>\n<!-- 0 -->\n<g id=\"node1\" class=\"node\">\n<title>0</title>\n<path fill=\"#ffffff\" stroke=\"#000000\" d=\"M546.5,-663C546.5,-663 403.5,-663 403.5,-663 397.5,-663 391.5,-657 391.5,-651 391.5,-651 391.5,-592 391.5,-592 391.5,-586 397.5,-580 403.5,-580 403.5,-580 546.5,-580 546.5,-580 552.5,-580 558.5,-586 558.5,-592 558.5,-592 558.5,-651 558.5,-651 558.5,-657 552.5,-663 546.5,-663\"/>\n<text text-anchor=\"start\" x=\"399.5\" y=\"-647.8\" font-family=\"Helvetica,sans-Serif\" font-size=\"14.00\" fill=\"#000000\">petal length (cm) ≤ 2.45</text>\n<text text-anchor=\"start\" x=\"424\" y=\"-632.8\" font-family=\"Helvetica,sans-Serif\" font-size=\"14.00\" fill=\"#000000\">entropy = 1.585</text>\n<text text-anchor=\"start\" x=\"427\" y=\"-617.8\" font-family=\"Helvetica,sans-Serif\" font-size=\"14.00\" fill=\"#000000\">samples = 150</text>\n<text text-anchor=\"start\" x=\"413\" y=\"-602.8\" font-family=\"Helvetica,sans-Serif\" font-size=\"14.00\" fill=\"#000000\">value = [50, 50, 50]</text>\n<text text-anchor=\"start\" x=\"428\" y=\"-587.8\" font-family=\"Helvetica,sans-Serif\" font-size=\"14.00\" fill=\"#000000\">class = setosa</text>\n</g>\n<!-- 1 -->\n<g id=\"node2\" class=\"node\">\n<title>1</title>\n<path fill=\"#e58139\" stroke=\"#000000\" d=\"M444.5,-536.5C444.5,-536.5 345.5,-536.5 345.5,-536.5 339.5,-536.5 333.5,-530.5 333.5,-524.5 333.5,-524.5 333.5,-480.5 333.5,-480.5 333.5,-474.5 339.5,-468.5 345.5,-468.5 345.5,-468.5 444.5,-468.5 444.5,-468.5 450.5,-468.5 456.5,-474.5 456.5,-480.5 456.5,-480.5 456.5,-524.5 456.5,-524.5 456.5,-530.5 450.5,-536.5 444.5,-536.5\"/>\n<text text-anchor=\"start\" x=\"352.5\" y=\"-521.3\" font-family=\"Helvetica,sans-Serif\" font-size=\"14.00\" fill=\"#000000\">entropy = 0.0</text>\n<text text-anchor=\"start\" x=\"351\" y=\"-506.3\" font-family=\"Helvetica,sans-Serif\" font-size=\"14.00\" fill=\"#000000\">samples = 50</text>\n<text text-anchor=\"start\" x=\"341.5\" y=\"-491.3\" font-family=\"Helvetica,sans-Serif\" font-size=\"14.00\" fill=\"#000000\">value = [50, 0, 0]</text>\n<text text-anchor=\"start\" x=\"348\" y=\"-476.3\" font-family=\"Helvetica,sans-Serif\" font-size=\"14.00\" fill=\"#000000\">class = setosa</text>\n</g>\n<!-- 0&#45;&gt;1 -->\n<g id=\"edge1\" class=\"edge\">\n<title>0&#45;&gt;1</title>\n<path fill=\"none\" stroke=\"#000000\" d=\"M447.0199,-579.8796C439.4797,-568.6636 431.3113,-556.5131 423.7309,-545.2372\"/>\n<polygon fill=\"#000000\" stroke=\"#000000\" points=\"426.5527,-543.1612 418.0689,-536.8149 420.7434,-547.0667 426.5527,-543.1612\"/>\n<text text-anchor=\"middle\" x=\"413.2608\" y=\"-557.6482\" font-family=\"Helvetica,sans-Serif\" font-size=\"14.00\" fill=\"#000000\">True</text>\n</g>\n<!-- 2 -->\n<g id=\"node3\" class=\"node\">\n<title>2</title>\n<path fill=\"#ffffff\" stroke=\"#000000\" d=\"M623.5,-544C623.5,-544 486.5,-544 486.5,-544 480.5,-544 474.5,-538 474.5,-532 474.5,-532 474.5,-473 474.5,-473 474.5,-467 480.5,-461 486.5,-461 486.5,-461 623.5,-461 623.5,-461 629.5,-461 635.5,-467 635.5,-473 635.5,-473 635.5,-532 635.5,-532 635.5,-538 629.5,-544 623.5,-544\"/>\n<text text-anchor=\"start\" x=\"482.5\" y=\"-528.8\" font-family=\"Helvetica,sans-Serif\" font-size=\"14.00\" fill=\"#000000\">petal width (cm) ≤ 1.75</text>\n<text text-anchor=\"start\" x=\"512.5\" y=\"-513.8\" font-family=\"Helvetica,sans-Serif\" font-size=\"14.00\" fill=\"#000000\">entropy = 1.0</text>\n<text text-anchor=\"start\" x=\"507\" y=\"-498.8\" font-family=\"Helvetica,sans-Serif\" font-size=\"14.00\" fill=\"#000000\">samples = 100</text>\n<text text-anchor=\"start\" x=\"497.5\" y=\"-483.8\" font-family=\"Helvetica,sans-Serif\" font-size=\"14.00\" fill=\"#000000\">value = [0, 50, 50]</text>\n<text text-anchor=\"start\" x=\"499\" y=\"-468.8\" font-family=\"Helvetica,sans-Serif\" font-size=\"14.00\" fill=\"#000000\">class = versicolor</text>\n</g>\n<!-- 0&#45;&gt;2 -->\n<g id=\"edge2\" class=\"edge\">\n<title>0&#45;&gt;2</title>\n<path fill=\"none\" stroke=\"#000000\" d=\"M502.9801,-579.8796C508.8531,-571.1434 515.1073,-561.8404 521.1679,-552.8253\"/>\n<polygon fill=\"#000000\" stroke=\"#000000\" points=\"524.2259,-554.5498 526.9005,-544.2981 518.4166,-550.6444 524.2259,-554.5498\"/>\n<text text-anchor=\"middle\" x=\"531.7085\" y=\"-565.1314\" font-family=\"Helvetica,sans-Serif\" font-size=\"14.00\" fill=\"#000000\">False</text>\n</g>\n<!-- 3 -->\n<g id=\"node4\" class=\"node\">\n<title>3</title>\n<path fill=\"#4de88e\" stroke=\"#000000\" d=\"M508.5,-425C508.5,-425 365.5,-425 365.5,-425 359.5,-425 353.5,-419 353.5,-413 353.5,-413 353.5,-354 353.5,-354 353.5,-348 359.5,-342 365.5,-342 365.5,-342 508.5,-342 508.5,-342 514.5,-342 520.5,-348 520.5,-354 520.5,-354 520.5,-413 520.5,-413 520.5,-419 514.5,-425 508.5,-425\"/>\n<text text-anchor=\"start\" x=\"361.5\" y=\"-409.8\" font-family=\"Helvetica,sans-Serif\" font-size=\"14.00\" fill=\"#000000\">petal length (cm) ≤ 4.95</text>\n<text text-anchor=\"start\" x=\"386\" y=\"-394.8\" font-family=\"Helvetica,sans-Serif\" font-size=\"14.00\" fill=\"#000000\">entropy = 0.445</text>\n<text text-anchor=\"start\" x=\"393\" y=\"-379.8\" font-family=\"Helvetica,sans-Serif\" font-size=\"14.00\" fill=\"#000000\">samples = 54</text>\n<text text-anchor=\"start\" x=\"383.5\" y=\"-364.8\" font-family=\"Helvetica,sans-Serif\" font-size=\"14.00\" fill=\"#000000\">value = [0, 49, 5]</text>\n<text text-anchor=\"start\" x=\"381\" y=\"-349.8\" font-family=\"Helvetica,sans-Serif\" font-size=\"14.00\" fill=\"#000000\">class = versicolor</text>\n</g>\n<!-- 2&#45;&gt;3 -->\n<g id=\"edge3\" class=\"edge\">\n<title>2&#45;&gt;3</title>\n<path fill=\"none\" stroke=\"#000000\" d=\"M513.7293,-460.8796C504.6201,-451.6931 494.8892,-441.8798 485.5224,-432.4336\"/>\n<polygon fill=\"#000000\" stroke=\"#000000\" points=\"487.9733,-429.9345 478.4468,-425.2981 483.0027,-434.8634 487.9733,-429.9345\"/>\n</g>\n<!-- 12 -->\n<g id=\"node13\" class=\"node\">\n<title>12</title>\n<path fill=\"#843de6\" stroke=\"#000000\" d=\"M745.5,-425C745.5,-425 602.5,-425 602.5,-425 596.5,-425 590.5,-419 590.5,-413 590.5,-413 590.5,-354 590.5,-354 590.5,-348 596.5,-342 602.5,-342 602.5,-342 745.5,-342 745.5,-342 751.5,-342 757.5,-348 757.5,-354 757.5,-354 757.5,-413 757.5,-413 757.5,-419 751.5,-425 745.5,-425\"/>\n<text text-anchor=\"start\" x=\"598.5\" y=\"-409.8\" font-family=\"Helvetica,sans-Serif\" font-size=\"14.00\" fill=\"#000000\">petal length (cm) ≤ 4.85</text>\n<text text-anchor=\"start\" x=\"623\" y=\"-394.8\" font-family=\"Helvetica,sans-Serif\" font-size=\"14.00\" fill=\"#000000\">entropy = 0.151</text>\n<text text-anchor=\"start\" x=\"630\" y=\"-379.8\" font-family=\"Helvetica,sans-Serif\" font-size=\"14.00\" fill=\"#000000\">samples = 46</text>\n<text text-anchor=\"start\" x=\"620.5\" y=\"-364.8\" font-family=\"Helvetica,sans-Serif\" font-size=\"14.00\" fill=\"#000000\">value = [0, 1, 45]</text>\n<text text-anchor=\"start\" x=\"622.5\" y=\"-349.8\" font-family=\"Helvetica,sans-Serif\" font-size=\"14.00\" fill=\"#000000\">class = virginica</text>\n</g>\n<!-- 2&#45;&gt;12 -->\n<g id=\"edge12\" class=\"edge\">\n<title>2&#45;&gt;12</title>\n<path fill=\"none\" stroke=\"#000000\" d=\"M596.6204,-460.8796C605.8069,-451.6931 615.6202,-441.8798 625.0664,-432.4336\"/>\n<polygon fill=\"#000000\" stroke=\"#000000\" points=\"627.6057,-434.8441 632.2019,-425.2981 622.6559,-429.8943 627.6057,-434.8441\"/>\n</g>\n<!-- 4 -->\n<g id=\"node5\" class=\"node\">\n<title>4</title>\n<path fill=\"#3de684\" stroke=\"#000000\" d=\"M274.5,-306C274.5,-306 137.5,-306 137.5,-306 131.5,-306 125.5,-300 125.5,-294 125.5,-294 125.5,-235 125.5,-235 125.5,-229 131.5,-223 137.5,-223 137.5,-223 274.5,-223 274.5,-223 280.5,-223 286.5,-229 286.5,-235 286.5,-235 286.5,-294 286.5,-294 286.5,-300 280.5,-306 274.5,-306\"/>\n<text text-anchor=\"start\" x=\"133.5\" y=\"-290.8\" font-family=\"Helvetica,sans-Serif\" font-size=\"14.00\" fill=\"#000000\">petal width (cm) ≤ 1.65</text>\n<text text-anchor=\"start\" x=\"155\" y=\"-275.8\" font-family=\"Helvetica,sans-Serif\" font-size=\"14.00\" fill=\"#000000\">entropy = 0.146</text>\n<text text-anchor=\"start\" x=\"162\" y=\"-260.8\" font-family=\"Helvetica,sans-Serif\" font-size=\"14.00\" fill=\"#000000\">samples = 48</text>\n<text text-anchor=\"start\" x=\"152.5\" y=\"-245.8\" font-family=\"Helvetica,sans-Serif\" font-size=\"14.00\" fill=\"#000000\">value = [0, 47, 1]</text>\n<text text-anchor=\"start\" x=\"150\" y=\"-230.8\" font-family=\"Helvetica,sans-Serif\" font-size=\"14.00\" fill=\"#000000\">class = versicolor</text>\n</g>\n<!-- 3&#45;&gt;4 -->\n<g id=\"edge4\" class=\"edge\">\n<title>3&#45;&gt;4</title>\n<path fill=\"none\" stroke=\"#000000\" d=\"M356.2074,-341.8796C336.6886,-331.8244 315.712,-321.0183 295.8077,-310.7645\"/>\n<polygon fill=\"#000000\" stroke=\"#000000\" points=\"297.2396,-307.5651 286.747,-306.0969 294.0339,-313.788 297.2396,-307.5651\"/>\n</g>\n<!-- 7 -->\n<g id=\"node8\" class=\"node\">\n<title>7</title>\n<path fill=\"#c09cf2\" stroke=\"#000000\" d=\"M505.5,-306C505.5,-306 368.5,-306 368.5,-306 362.5,-306 356.5,-300 356.5,-294 356.5,-294 356.5,-235 356.5,-235 356.5,-229 362.5,-223 368.5,-223 368.5,-223 505.5,-223 505.5,-223 511.5,-223 517.5,-229 517.5,-235 517.5,-235 517.5,-294 517.5,-294 517.5,-300 511.5,-306 505.5,-306\"/>\n<text text-anchor=\"start\" x=\"364.5\" y=\"-290.8\" font-family=\"Helvetica,sans-Serif\" font-size=\"14.00\" fill=\"#000000\">petal width (cm) ≤ 1.55</text>\n<text text-anchor=\"start\" x=\"386\" y=\"-275.8\" font-family=\"Helvetica,sans-Serif\" font-size=\"14.00\" fill=\"#000000\">entropy = 0.918</text>\n<text text-anchor=\"start\" x=\"397.5\" y=\"-260.8\" font-family=\"Helvetica,sans-Serif\" font-size=\"14.00\" fill=\"#000000\">samples = 6</text>\n<text text-anchor=\"start\" x=\"387.5\" y=\"-245.8\" font-family=\"Helvetica,sans-Serif\" font-size=\"14.00\" fill=\"#000000\">value = [0, 2, 4]</text>\n<text text-anchor=\"start\" x=\"385.5\" y=\"-230.8\" font-family=\"Helvetica,sans-Serif\" font-size=\"14.00\" fill=\"#000000\">class = virginica</text>\n</g>\n<!-- 3&#45;&gt;7 -->\n<g id=\"edge7\" class=\"edge\">\n<title>3&#45;&gt;7</title>\n<path fill=\"none\" stroke=\"#000000\" d=\"M437,-341.8796C437,-333.6838 437,-324.9891 437,-316.5013\"/>\n<polygon fill=\"#000000\" stroke=\"#000000\" points=\"440.5001,-316.298 437,-306.2981 433.5001,-316.2981 440.5001,-316.298\"/>\n</g>\n<!-- 5 -->\n<g id=\"node6\" class=\"node\">\n<title>5</title>\n<path fill=\"#39e581\" stroke=\"#000000\" d=\"M116,-179.5C116,-179.5 12,-179.5 12,-179.5 6,-179.5 0,-173.5 0,-167.5 0,-167.5 0,-123.5 0,-123.5 0,-117.5 6,-111.5 12,-111.5 12,-111.5 116,-111.5 116,-111.5 122,-111.5 128,-117.5 128,-123.5 128,-123.5 128,-167.5 128,-167.5 128,-173.5 122,-179.5 116,-179.5\"/>\n<text text-anchor=\"start\" x=\"21.5\" y=\"-164.3\" font-family=\"Helvetica,sans-Serif\" font-size=\"14.00\" fill=\"#000000\">entropy = 0.0</text>\n<text text-anchor=\"start\" x=\"20\" y=\"-149.3\" font-family=\"Helvetica,sans-Serif\" font-size=\"14.00\" fill=\"#000000\">samples = 47</text>\n<text text-anchor=\"start\" x=\"10.5\" y=\"-134.3\" font-family=\"Helvetica,sans-Serif\" font-size=\"14.00\" fill=\"#000000\">value = [0, 47, 0]</text>\n<text text-anchor=\"start\" x=\"8\" y=\"-119.3\" font-family=\"Helvetica,sans-Serif\" font-size=\"14.00\" fill=\"#000000\">class = versicolor</text>\n</g>\n<!-- 4&#45;&gt;5 -->\n<g id=\"edge5\" class=\"edge\">\n<title>4&#45;&gt;5</title>\n<path fill=\"none\" stroke=\"#000000\" d=\"M156.3353,-222.8796C142.1642,-211.0038 126.743,-198.0804 112.6342,-186.2568\"/>\n<polygon fill=\"#000000\" stroke=\"#000000\" points=\"114.8598,-183.5554 104.9472,-179.8149 110.3637,-188.9206 114.8598,-183.5554\"/>\n</g>\n<!-- 6 -->\n<g id=\"node7\" class=\"node\">\n<title>6</title>\n<path fill=\"#8139e5\" stroke=\"#000000\" d=\"M253.5,-179.5C253.5,-179.5 158.5,-179.5 158.5,-179.5 152.5,-179.5 146.5,-173.5 146.5,-167.5 146.5,-167.5 146.5,-123.5 146.5,-123.5 146.5,-117.5 152.5,-111.5 158.5,-111.5 158.5,-111.5 253.5,-111.5 253.5,-111.5 259.5,-111.5 265.5,-117.5 265.5,-123.5 265.5,-123.5 265.5,-167.5 265.5,-167.5 265.5,-173.5 259.5,-179.5 253.5,-179.5\"/>\n<text text-anchor=\"start\" x=\"163.5\" y=\"-164.3\" font-family=\"Helvetica,sans-Serif\" font-size=\"14.00\" fill=\"#000000\">entropy = 0.0</text>\n<text text-anchor=\"start\" x=\"166.5\" y=\"-149.3\" font-family=\"Helvetica,sans-Serif\" font-size=\"14.00\" fill=\"#000000\">samples = 1</text>\n<text text-anchor=\"start\" x=\"156.5\" y=\"-134.3\" font-family=\"Helvetica,sans-Serif\" font-size=\"14.00\" fill=\"#000000\">value = [0, 0, 1]</text>\n<text text-anchor=\"start\" x=\"154.5\" y=\"-119.3\" font-family=\"Helvetica,sans-Serif\" font-size=\"14.00\" fill=\"#000000\">class = virginica</text>\n</g>\n<!-- 4&#45;&gt;6 -->\n<g id=\"edge6\" class=\"edge\">\n<title>4&#45;&gt;6</title>\n<path fill=\"none\" stroke=\"#000000\" d=\"M206,-222.8796C206,-212.2134 206,-200.7021 206,-189.9015\"/>\n<polygon fill=\"#000000\" stroke=\"#000000\" points=\"209.5001,-189.8149 206,-179.8149 202.5001,-189.815 209.5001,-189.8149\"/>\n</g>\n<!-- 8 -->\n<g id=\"node9\" class=\"node\">\n<title>8</title>\n<path fill=\"#8139e5\" stroke=\"#000000\" d=\"M390.5,-179.5C390.5,-179.5 295.5,-179.5 295.5,-179.5 289.5,-179.5 283.5,-173.5 283.5,-167.5 283.5,-167.5 283.5,-123.5 283.5,-123.5 283.5,-117.5 289.5,-111.5 295.5,-111.5 295.5,-111.5 390.5,-111.5 390.5,-111.5 396.5,-111.5 402.5,-117.5 402.5,-123.5 402.5,-123.5 402.5,-167.5 402.5,-167.5 402.5,-173.5 396.5,-179.5 390.5,-179.5\"/>\n<text text-anchor=\"start\" x=\"300.5\" y=\"-164.3\" font-family=\"Helvetica,sans-Serif\" font-size=\"14.00\" fill=\"#000000\">entropy = 0.0</text>\n<text text-anchor=\"start\" x=\"303.5\" y=\"-149.3\" font-family=\"Helvetica,sans-Serif\" font-size=\"14.00\" fill=\"#000000\">samples = 3</text>\n<text text-anchor=\"start\" x=\"293.5\" y=\"-134.3\" font-family=\"Helvetica,sans-Serif\" font-size=\"14.00\" fill=\"#000000\">value = [0, 0, 3]</text>\n<text text-anchor=\"start\" x=\"291.5\" y=\"-119.3\" font-family=\"Helvetica,sans-Serif\" font-size=\"14.00\" fill=\"#000000\">class = virginica</text>\n</g>\n<!-- 7&#45;&gt;8 -->\n<g id=\"edge8\" class=\"edge\">\n<title>7&#45;&gt;8</title>\n<path fill=\"none\" stroke=\"#000000\" d=\"M404.1234,-222.8796C395.1768,-211.5536 385.4776,-199.2748 376.4971,-187.9058\"/>\n<polygon fill=\"#000000\" stroke=\"#000000\" points=\"379.051,-185.4926 370.1059,-179.8149 373.558,-189.8316 379.051,-185.4926\"/>\n</g>\n<!-- 9 -->\n<g id=\"node10\" class=\"node\">\n<title>9</title>\n<path fill=\"#9cf2c0\" stroke=\"#000000\" d=\"M579.5,-187C579.5,-187 432.5,-187 432.5,-187 426.5,-187 420.5,-181 420.5,-175 420.5,-175 420.5,-116 420.5,-116 420.5,-110 426.5,-104 432.5,-104 432.5,-104 579.5,-104 579.5,-104 585.5,-104 591.5,-110 591.5,-116 591.5,-116 591.5,-175 591.5,-175 591.5,-181 585.5,-187 579.5,-187\"/>\n<text text-anchor=\"start\" x=\"428.5\" y=\"-171.8\" font-family=\"Helvetica,sans-Serif\" font-size=\"14.00\" fill=\"#000000\">sepal length (cm) ≤ 6.95</text>\n<text text-anchor=\"start\" x=\"455\" y=\"-156.8\" font-family=\"Helvetica,sans-Serif\" font-size=\"14.00\" fill=\"#000000\">entropy = 0.918</text>\n<text text-anchor=\"start\" x=\"466.5\" y=\"-141.8\" font-family=\"Helvetica,sans-Serif\" font-size=\"14.00\" fill=\"#000000\">samples = 3</text>\n<text text-anchor=\"start\" x=\"456.5\" y=\"-126.8\" font-family=\"Helvetica,sans-Serif\" font-size=\"14.00\" fill=\"#000000\">value = [0, 2, 1]</text>\n<text text-anchor=\"start\" x=\"450\" y=\"-111.8\" font-family=\"Helvetica,sans-Serif\" font-size=\"14.00\" fill=\"#000000\">class = versicolor</text>\n</g>\n<!-- 7&#45;&gt;9 -->\n<g id=\"edge9\" class=\"edge\">\n<title>7&#45;&gt;9</title>\n<path fill=\"none\" stroke=\"#000000\" d=\"M461.1329,-222.8796C466.1461,-214.2335 471.4813,-205.0322 476.6581,-196.1042\"/>\n<polygon fill=\"#000000\" stroke=\"#000000\" points=\"479.7758,-197.7047 481.7641,-187.2981 473.7202,-194.1934 479.7758,-197.7047\"/>\n</g>\n<!-- 10 -->\n<g id=\"node11\" class=\"node\">\n<title>10</title>\n<path fill=\"#39e581\" stroke=\"#000000\" d=\"M487,-68C487,-68 383,-68 383,-68 377,-68 371,-62 371,-56 371,-56 371,-12 371,-12 371,-6 377,0 383,0 383,0 487,0 487,0 493,0 499,-6 499,-12 499,-12 499,-56 499,-56 499,-62 493,-68 487,-68\"/>\n<text text-anchor=\"start\" x=\"392.5\" y=\"-52.8\" font-family=\"Helvetica,sans-Serif\" font-size=\"14.00\" fill=\"#000000\">entropy = 0.0</text>\n<text text-anchor=\"start\" x=\"395.5\" y=\"-37.8\" font-family=\"Helvetica,sans-Serif\" font-size=\"14.00\" fill=\"#000000\">samples = 2</text>\n<text text-anchor=\"start\" x=\"385.5\" y=\"-22.8\" font-family=\"Helvetica,sans-Serif\" font-size=\"14.00\" fill=\"#000000\">value = [0, 2, 0]</text>\n<text text-anchor=\"start\" x=\"379\" y=\"-7.8\" font-family=\"Helvetica,sans-Serif\" font-size=\"14.00\" fill=\"#000000\">class = versicolor</text>\n</g>\n<!-- 9&#45;&gt;10 -->\n<g id=\"edge10\" class=\"edge\">\n<title>9&#45;&gt;10</title>\n<path fill=\"none\" stroke=\"#000000\" d=\"M479.5622,-103.9815C473.944,-95.1585 468.0012,-85.8258 462.3497,-76.9506\"/>\n<polygon fill=\"#000000\" stroke=\"#000000\" points=\"465.1416,-74.8188 456.8181,-68.2637 459.2371,-78.5787 465.1416,-74.8188\"/>\n</g>\n<!-- 11 -->\n<g id=\"node12\" class=\"node\">\n<title>11</title>\n<path fill=\"#8139e5\" stroke=\"#000000\" d=\"M624.5,-68C624.5,-68 529.5,-68 529.5,-68 523.5,-68 517.5,-62 517.5,-56 517.5,-56 517.5,-12 517.5,-12 517.5,-6 523.5,0 529.5,0 529.5,0 624.5,0 624.5,0 630.5,0 636.5,-6 636.5,-12 636.5,-12 636.5,-56 636.5,-56 636.5,-62 630.5,-68 624.5,-68\"/>\n<text text-anchor=\"start\" x=\"534.5\" y=\"-52.8\" font-family=\"Helvetica,sans-Serif\" font-size=\"14.00\" fill=\"#000000\">entropy = 0.0</text>\n<text text-anchor=\"start\" x=\"537.5\" y=\"-37.8\" font-family=\"Helvetica,sans-Serif\" font-size=\"14.00\" fill=\"#000000\">samples = 1</text>\n<text text-anchor=\"start\" x=\"527.5\" y=\"-22.8\" font-family=\"Helvetica,sans-Serif\" font-size=\"14.00\" fill=\"#000000\">value = [0, 0, 1]</text>\n<text text-anchor=\"start\" x=\"525.5\" y=\"-7.8\" font-family=\"Helvetica,sans-Serif\" font-size=\"14.00\" fill=\"#000000\">class = virginica</text>\n</g>\n<!-- 9&#45;&gt;11 -->\n<g id=\"edge11\" class=\"edge\">\n<title>9&#45;&gt;11</title>\n<path fill=\"none\" stroke=\"#000000\" d=\"M532.4378,-103.9815C538.056,-95.1585 543.9988,-85.8258 549.6503,-76.9506\"/>\n<polygon fill=\"#000000\" stroke=\"#000000\" points=\"552.7629,-78.5787 555.1819,-68.2637 546.8584,-74.8188 552.7629,-78.5787\"/>\n</g>\n<!-- 13 -->\n<g id=\"node14\" class=\"node\">\n<title>13</title>\n<path fill=\"#c09cf2\" stroke=\"#000000\" d=\"M747.5,-306C747.5,-306 600.5,-306 600.5,-306 594.5,-306 588.5,-300 588.5,-294 588.5,-294 588.5,-235 588.5,-235 588.5,-229 594.5,-223 600.5,-223 600.5,-223 747.5,-223 747.5,-223 753.5,-223 759.5,-229 759.5,-235 759.5,-235 759.5,-294 759.5,-294 759.5,-300 753.5,-306 747.5,-306\"/>\n<text text-anchor=\"start\" x=\"596.5\" y=\"-290.8\" font-family=\"Helvetica,sans-Serif\" font-size=\"14.00\" fill=\"#000000\">sepal length (cm) ≤ 5.95</text>\n<text text-anchor=\"start\" x=\"623\" y=\"-275.8\" font-family=\"Helvetica,sans-Serif\" font-size=\"14.00\" fill=\"#000000\">entropy = 0.918</text>\n<text text-anchor=\"start\" x=\"634.5\" y=\"-260.8\" font-family=\"Helvetica,sans-Serif\" font-size=\"14.00\" fill=\"#000000\">samples = 3</text>\n<text text-anchor=\"start\" x=\"624.5\" y=\"-245.8\" font-family=\"Helvetica,sans-Serif\" font-size=\"14.00\" fill=\"#000000\">value = [0, 1, 2]</text>\n<text text-anchor=\"start\" x=\"622.5\" y=\"-230.8\" font-family=\"Helvetica,sans-Serif\" font-size=\"14.00\" fill=\"#000000\">class = virginica</text>\n</g>\n<!-- 12&#45;&gt;13 -->\n<g id=\"edge13\" class=\"edge\">\n<title>12&#45;&gt;13</title>\n<path fill=\"none\" stroke=\"#000000\" d=\"M674,-341.8796C674,-333.6838 674,-324.9891 674,-316.5013\"/>\n<polygon fill=\"#000000\" stroke=\"#000000\" points=\"677.5001,-316.298 674,-306.2981 670.5001,-316.2981 677.5001,-316.298\"/>\n</g>\n<!-- 16 -->\n<g id=\"node17\" class=\"node\">\n<title>16</title>\n<path fill=\"#8139e5\" stroke=\"#000000\" d=\"M888.5,-298.5C888.5,-298.5 789.5,-298.5 789.5,-298.5 783.5,-298.5 777.5,-292.5 777.5,-286.5 777.5,-286.5 777.5,-242.5 777.5,-242.5 777.5,-236.5 783.5,-230.5 789.5,-230.5 789.5,-230.5 888.5,-230.5 888.5,-230.5 894.5,-230.5 900.5,-236.5 900.5,-242.5 900.5,-242.5 900.5,-286.5 900.5,-286.5 900.5,-292.5 894.5,-298.5 888.5,-298.5\"/>\n<text text-anchor=\"start\" x=\"796.5\" y=\"-283.3\" font-family=\"Helvetica,sans-Serif\" font-size=\"14.00\" fill=\"#000000\">entropy = 0.0</text>\n<text text-anchor=\"start\" x=\"795\" y=\"-268.3\" font-family=\"Helvetica,sans-Serif\" font-size=\"14.00\" fill=\"#000000\">samples = 43</text>\n<text text-anchor=\"start\" x=\"785.5\" y=\"-253.3\" font-family=\"Helvetica,sans-Serif\" font-size=\"14.00\" fill=\"#000000\">value = [0, 0, 43]</text>\n<text text-anchor=\"start\" x=\"787.5\" y=\"-238.3\" font-family=\"Helvetica,sans-Serif\" font-size=\"14.00\" fill=\"#000000\">class = virginica</text>\n</g>\n<!-- 12&#45;&gt;16 -->\n<g id=\"edge16\" class=\"edge\">\n<title>12&#45;&gt;16</title>\n<path fill=\"none\" stroke=\"#000000\" d=\"M731.709,-341.8796C748.407,-329.8368 766.5987,-316.7167 783.1793,-304.7586\"/>\n<polygon fill=\"#000000\" stroke=\"#000000\" points=\"785.6232,-307.3113 791.6865,-298.623 781.5285,-301.6339 785.6232,-307.3113\"/>\n</g>\n<!-- 14 -->\n<g id=\"node15\" class=\"node\">\n<title>14</title>\n<path fill=\"#39e581\" stroke=\"#000000\" d=\"M726,-179.5C726,-179.5 622,-179.5 622,-179.5 616,-179.5 610,-173.5 610,-167.5 610,-167.5 610,-123.5 610,-123.5 610,-117.5 616,-111.5 622,-111.5 622,-111.5 726,-111.5 726,-111.5 732,-111.5 738,-117.5 738,-123.5 738,-123.5 738,-167.5 738,-167.5 738,-173.5 732,-179.5 726,-179.5\"/>\n<text text-anchor=\"start\" x=\"631.5\" y=\"-164.3\" font-family=\"Helvetica,sans-Serif\" font-size=\"14.00\" fill=\"#000000\">entropy = 0.0</text>\n<text text-anchor=\"start\" x=\"634.5\" y=\"-149.3\" font-family=\"Helvetica,sans-Serif\" font-size=\"14.00\" fill=\"#000000\">samples = 1</text>\n<text text-anchor=\"start\" x=\"624.5\" y=\"-134.3\" font-family=\"Helvetica,sans-Serif\" font-size=\"14.00\" fill=\"#000000\">value = [0, 1, 0]</text>\n<text text-anchor=\"start\" x=\"618\" y=\"-119.3\" font-family=\"Helvetica,sans-Serif\" font-size=\"14.00\" fill=\"#000000\">class = versicolor</text>\n</g>\n<!-- 13&#45;&gt;14 -->\n<g id=\"edge14\" class=\"edge\">\n<title>13&#45;&gt;14</title>\n<path fill=\"none\" stroke=\"#000000\" d=\"M674,-222.8796C674,-212.2134 674,-200.7021 674,-189.9015\"/>\n<polygon fill=\"#000000\" stroke=\"#000000\" points=\"677.5001,-189.8149 674,-179.8149 670.5001,-189.815 677.5001,-189.8149\"/>\n</g>\n<!-- 15 -->\n<g id=\"node16\" class=\"node\">\n<title>15</title>\n<path fill=\"#8139e5\" stroke=\"#000000\" d=\"M863.5,-179.5C863.5,-179.5 768.5,-179.5 768.5,-179.5 762.5,-179.5 756.5,-173.5 756.5,-167.5 756.5,-167.5 756.5,-123.5 756.5,-123.5 756.5,-117.5 762.5,-111.5 768.5,-111.5 768.5,-111.5 863.5,-111.5 863.5,-111.5 869.5,-111.5 875.5,-117.5 875.5,-123.5 875.5,-123.5 875.5,-167.5 875.5,-167.5 875.5,-173.5 869.5,-179.5 863.5,-179.5\"/>\n<text text-anchor=\"start\" x=\"773.5\" y=\"-164.3\" font-family=\"Helvetica,sans-Serif\" font-size=\"14.00\" fill=\"#000000\">entropy = 0.0</text>\n<text text-anchor=\"start\" x=\"776.5\" y=\"-149.3\" font-family=\"Helvetica,sans-Serif\" font-size=\"14.00\" fill=\"#000000\">samples = 2</text>\n<text text-anchor=\"start\" x=\"766.5\" y=\"-134.3\" font-family=\"Helvetica,sans-Serif\" font-size=\"14.00\" fill=\"#000000\">value = [0, 0, 2]</text>\n<text text-anchor=\"start\" x=\"764.5\" y=\"-119.3\" font-family=\"Helvetica,sans-Serif\" font-size=\"14.00\" fill=\"#000000\">class = virginica</text>\n</g>\n<!-- 13&#45;&gt;15 -->\n<g id=\"edge15\" class=\"edge\">\n<title>13&#45;&gt;15</title>\n<path fill=\"none\" stroke=\"#000000\" d=\"M723.6647,-222.8796C737.8358,-211.0038 753.257,-198.0804 767.3658,-186.2568\"/>\n<polygon fill=\"#000000\" stroke=\"#000000\" points=\"769.6363,-188.9206 775.0528,-179.8149 765.1402,-183.5554 769.6363,-188.9206\"/>\n</g>\n</g>\n</svg>\n"
          },
          "metadata": {},
          "execution_count": 61
        }
      ]
    },
    {
      "cell_type": "code",
      "metadata": {
        "id": "9Ezt3I2IAPpq"
      },
      "source": [
        "from sklearn.model_selection import train_test_split"
      ],
      "execution_count": null,
      "outputs": []
    },
    {
      "cell_type": "code",
      "metadata": {
        "id": "mPG0aGsZBMO_"
      },
      "source": [
        "X_train,X_test,y_train,y_test = train_test_split(X,y,test_size = 0.2,random_state=42,stratify = y)"
      ],
      "execution_count": null,
      "outputs": []
    },
    {
      "cell_type": "code",
      "metadata": {
        "colab": {
          "base_uri": "https://localhost:8080/"
        },
        "id": "oZPhOG5bBb8b",
        "outputId": "05d79594-5cdf-4956-aeea-1b3a09df1400"
      },
      "source": [
        "print(len(X_train))\n",
        "print(len(X_test))"
      ],
      "execution_count": null,
      "outputs": [
        {
          "output_type": "stream",
          "name": "stdout",
          "text": [
            "120\n",
            "30\n"
          ]
        }
      ]
    },
    {
      "cell_type": "code",
      "metadata": {
        "colab": {
          "base_uri": "https://localhost:8080/"
        },
        "id": "65OzqNsVBgqI",
        "outputId": "2551aaa1-48eb-4cdf-d1f6-21baf770f1e2"
      },
      "source": [
        "print(np.unique(y_train,return_counts=True))\n",
        "print(np.unique(y_test,return_counts=True))"
      ],
      "execution_count": null,
      "outputs": [
        {
          "output_type": "stream",
          "name": "stdout",
          "text": [
            "(array(['Iris-setosa', 'Iris-versicolor', 'Iris-virginica'], dtype=object), array([40, 40, 40]))\n",
            "(array(['Iris-setosa', 'Iris-versicolor', 'Iris-virginica'], dtype=object), array([10, 10, 10]))\n"
          ]
        }
      ]
    },
    {
      "cell_type": "code",
      "metadata": {
        "colab": {
          "base_uri": "https://localhost:8080/"
        },
        "id": "ivOdB64HBx_z",
        "outputId": "38441e33-8950-4c21-c5f6-bc632331ef14"
      },
      "source": [
        "clf = tree.DecisionTreeClassifier(criterion=\"entropy\")\n",
        "clf.fit(X_train,y_train)"
      ],
      "execution_count": null,
      "outputs": [
        {
          "output_type": "execute_result",
          "data": {
            "text/plain": [
              "DecisionTreeClassifier(ccp_alpha=0.0, class_weight=None, criterion='entropy',\n",
              "                       max_depth=None, max_features=None, max_leaf_nodes=None,\n",
              "                       min_impurity_decrease=0.0, min_impurity_split=None,\n",
              "                       min_samples_leaf=1, min_samples_split=2,\n",
              "                       min_weight_fraction_leaf=0.0, presort='deprecated',\n",
              "                       random_state=None, splitter='best')"
            ]
          },
          "metadata": {},
          "execution_count": 66
        }
      ]
    },
    {
      "cell_type": "code",
      "metadata": {
        "colab": {
          "base_uri": "https://localhost:8080/"
        },
        "id": "8Cnn_DVJB62X",
        "outputId": "f1ae33bb-0aea-424f-aee8-89103af11bab"
      },
      "source": [
        "prediction = clf.predict(X_test)\n",
        "prediction"
      ],
      "execution_count": null,
      "outputs": [
        {
          "output_type": "execute_result",
          "data": {
            "text/plain": [
              "array(['Iris-setosa', 'Iris-virginica', 'Iris-versicolor',\n",
              "       'Iris-versicolor', 'Iris-setosa', 'Iris-versicolor', 'Iris-setosa',\n",
              "       'Iris-setosa', 'Iris-virginica', 'Iris-versicolor',\n",
              "       'Iris-virginica', 'Iris-virginica', 'Iris-virginica',\n",
              "       'Iris-versicolor', 'Iris-setosa', 'Iris-setosa', 'Iris-setosa',\n",
              "       'Iris-versicolor', 'Iris-versicolor', 'Iris-virginica',\n",
              "       'Iris-setosa', 'Iris-virginica', 'Iris-versicolor',\n",
              "       'Iris-versicolor', 'Iris-virginica', 'Iris-virginica',\n",
              "       'Iris-versicolor', 'Iris-setosa', 'Iris-virginica', 'Iris-setosa'],\n",
              "      dtype=object)"
            ]
          },
          "metadata": {},
          "execution_count": 67
        }
      ]
    },
    {
      "cell_type": "code",
      "metadata": {
        "colab": {
          "base_uri": "https://localhost:8080/"
        },
        "id": "zIYQFiJqCIJA",
        "outputId": "690d95ad-f458-45ba-beb0-f01a4c0a589b"
      },
      "source": [
        "prediction_prob = clf.predict_proba(X_test)\n",
        "prediction_prob"
      ],
      "execution_count": null,
      "outputs": [
        {
          "output_type": "execute_result",
          "data": {
            "text/plain": [
              "array([[1., 0., 0.],\n",
              "       [0., 0., 1.],\n",
              "       [0., 1., 0.],\n",
              "       [0., 1., 0.],\n",
              "       [1., 0., 0.],\n",
              "       [0., 1., 0.],\n",
              "       [1., 0., 0.],\n",
              "       [1., 0., 0.],\n",
              "       [0., 0., 1.],\n",
              "       [0., 1., 0.],\n",
              "       [0., 0., 1.],\n",
              "       [0., 0., 1.],\n",
              "       [0., 0., 1.],\n",
              "       [0., 1., 0.],\n",
              "       [1., 0., 0.],\n",
              "       [1., 0., 0.],\n",
              "       [1., 0., 0.],\n",
              "       [0., 1., 0.],\n",
              "       [0., 1., 0.],\n",
              "       [0., 0., 1.],\n",
              "       [1., 0., 0.],\n",
              "       [0., 0., 1.],\n",
              "       [0., 1., 0.],\n",
              "       [0., 1., 0.],\n",
              "       [0., 0., 1.],\n",
              "       [0., 0., 1.],\n",
              "       [0., 1., 0.],\n",
              "       [1., 0., 0.],\n",
              "       [0., 0., 1.],\n",
              "       [1., 0., 0.]])"
            ]
          },
          "metadata": {},
          "execution_count": 68
        }
      ]
    },
    {
      "cell_type": "code",
      "metadata": {
        "colab": {
          "base_uri": "https://localhost:8080/"
        },
        "id": "_477e0t3hKSO",
        "outputId": "cba00961-34c2-4c00-8bac-8f944a7510e2"
      },
      "source": [
        "clf.score(X_test,y_test)"
      ],
      "execution_count": null,
      "outputs": [
        {
          "output_type": "execute_result",
          "data": {
            "text/plain": [
              "0.9333333333333333"
            ]
          },
          "metadata": {},
          "execution_count": 69
        }
      ]
    },
    {
      "cell_type": "markdown",
      "metadata": {
        "id": "ok1shSsSD5eM"
      },
      "source": [
        "###KNN"
      ]
    },
    {
      "cell_type": "code",
      "metadata": {
        "id": "0xZFdORkCNeB"
      },
      "source": [
        "import pandas as pd"
      ],
      "execution_count": null,
      "outputs": []
    },
    {
      "cell_type": "code",
      "metadata": {
        "id": "Lb4n-OO3ECOh"
      },
      "source": [
        "dataframe = pd.read_csv(\"iris.csv\", header=None)\n",
        "dataset = dataframe.values\n",
        "X = dataset[:,0:-1].astype(float)\n",
        "y = dataset[:,-1]"
      ],
      "execution_count": null,
      "outputs": []
    },
    {
      "cell_type": "code",
      "metadata": {
        "colab": {
          "base_uri": "https://localhost:8080/"
        },
        "id": "oBGFUH-OFXCE",
        "outputId": "f9963dc0-db96-49b2-c34d-e92b896c7f73"
      },
      "source": [
        "print(len(X))\n",
        "print(len(y))"
      ],
      "execution_count": null,
      "outputs": [
        {
          "output_type": "stream",
          "name": "stdout",
          "text": [
            "150\n",
            "150\n"
          ]
        }
      ]
    },
    {
      "cell_type": "code",
      "metadata": {
        "id": "yXVKi6p9E_o1"
      },
      "source": [
        "X_train,X_test,y_train,y_test = train_test_split(X,y,test_size = 0.2,random_state=42,stratify = y)"
      ],
      "execution_count": null,
      "outputs": []
    },
    {
      "cell_type": "code",
      "metadata": {
        "colab": {
          "base_uri": "https://localhost:8080/"
        },
        "id": "rY7oZN4-FCy8",
        "outputId": "254b2c48-5fe0-41aa-c247-774fceba0ddd"
      },
      "source": [
        "print(np.unique(y_train,return_counts=True))\n",
        "print(np.unique(y_test,return_counts=True))"
      ],
      "execution_count": null,
      "outputs": [
        {
          "output_type": "stream",
          "name": "stdout",
          "text": [
            "(array(['Iris-setosa', 'Iris-versicolor', 'Iris-virginica'], dtype=object), array([40, 40, 40]))\n",
            "(array(['Iris-setosa', 'Iris-versicolor', 'Iris-virginica'], dtype=object), array([10, 10, 10]))\n"
          ]
        }
      ]
    },
    {
      "cell_type": "code",
      "metadata": {
        "id": "P93HTVnfFDSy"
      },
      "source": [
        "from sklearn.neighbors import KNeighborsClassifier"
      ],
      "execution_count": null,
      "outputs": []
    },
    {
      "cell_type": "code",
      "metadata": {
        "id": "FVg5lCGijDVu"
      },
      "source": [
        ""
      ],
      "execution_count": null,
      "outputs": []
    },
    {
      "cell_type": "code",
      "metadata": {
        "colab": {
          "base_uri": "https://localhost:8080/"
        },
        "id": "FL0f6Ua4FHtS",
        "outputId": "853c8ee5-7528-49c7-8865-60a36e69f016"
      },
      "source": [
        "knn = KNeighborsClassifier(n_neighbors=5,metric='euclidean')\n",
        "knn.fit(X_train,y_train)"
      ],
      "execution_count": null,
      "outputs": [
        {
          "output_type": "execute_result",
          "data": {
            "text/plain": [
              "KNeighborsClassifier(algorithm='auto', leaf_size=30, metric='euclidean',\n",
              "                     metric_params=None, n_jobs=None, n_neighbors=5, p=2,\n",
              "                     weights='uniform')"
            ]
          },
          "metadata": {},
          "execution_count": 77
        }
      ]
    },
    {
      "cell_type": "code",
      "metadata": {
        "colab": {
          "base_uri": "https://localhost:8080/"
        },
        "id": "rlzyDQ-wF0Xk",
        "outputId": "c386844e-4cbf-446b-8575-ef67d41cd26f"
      },
      "source": [
        "train_accuracy= knn.score(X_train, y_train)\n",
        "test_accuracy=knn.score(X_test, y_test)\n",
        "print(train_accuracy)\n",
        "print(test_accuracy)"
      ],
      "execution_count": null,
      "outputs": [
        {
          "output_type": "stream",
          "name": "stdout",
          "text": [
            "0.9666666666666667\n",
            "1.0\n"
          ]
        }
      ]
    },
    {
      "cell_type": "code",
      "metadata": {
        "id": "vnZIRftmF1Hn"
      },
      "source": [
        "from sklearn.metrics import confusion_matrix"
      ],
      "execution_count": null,
      "outputs": []
    },
    {
      "cell_type": "code",
      "metadata": {
        "id": "bdAUdTPdF2v5"
      },
      "source": [
        "y_pred = knn.predict(X_test)"
      ],
      "execution_count": null,
      "outputs": []
    },
    {
      "cell_type": "code",
      "metadata": {
        "colab": {
          "base_uri": "https://localhost:8080/",
          "height": 261
        },
        "id": "I3-Nemm0F6L_",
        "outputId": "06168b97-4d7b-46ca-8ee1-246497161f36"
      },
      "source": [
        "cm=confusion_matrix(y_test,y_pred)\n",
        "print(cm)\n",
        "pd.crosstab(y_test, y_pred, rownames=['True'], colnames=['Predicted'], margins=True)"
      ],
      "execution_count": null,
      "outputs": [
        {
          "output_type": "stream",
          "name": "stdout",
          "text": [
            "[[10  0  0]\n",
            " [ 0 10  0]\n",
            " [ 0  0 10]]\n"
          ]
        },
        {
          "output_type": "execute_result",
          "data": {
            "text/html": [
              "<div>\n",
              "<style scoped>\n",
              "    .dataframe tbody tr th:only-of-type {\n",
              "        vertical-align: middle;\n",
              "    }\n",
              "\n",
              "    .dataframe tbody tr th {\n",
              "        vertical-align: top;\n",
              "    }\n",
              "\n",
              "    .dataframe thead th {\n",
              "        text-align: right;\n",
              "    }\n",
              "</style>\n",
              "<table border=\"1\" class=\"dataframe\">\n",
              "  <thead>\n",
              "    <tr style=\"text-align: right;\">\n",
              "      <th>Predicted</th>\n",
              "      <th>Iris-setosa</th>\n",
              "      <th>Iris-versicolor</th>\n",
              "      <th>Iris-virginica</th>\n",
              "      <th>All</th>\n",
              "    </tr>\n",
              "    <tr>\n",
              "      <th>True</th>\n",
              "      <th></th>\n",
              "      <th></th>\n",
              "      <th></th>\n",
              "      <th></th>\n",
              "    </tr>\n",
              "  </thead>\n",
              "  <tbody>\n",
              "    <tr>\n",
              "      <th>Iris-setosa</th>\n",
              "      <td>10</td>\n",
              "      <td>0</td>\n",
              "      <td>0</td>\n",
              "      <td>10</td>\n",
              "    </tr>\n",
              "    <tr>\n",
              "      <th>Iris-versicolor</th>\n",
              "      <td>0</td>\n",
              "      <td>10</td>\n",
              "      <td>0</td>\n",
              "      <td>10</td>\n",
              "    </tr>\n",
              "    <tr>\n",
              "      <th>Iris-virginica</th>\n",
              "      <td>0</td>\n",
              "      <td>0</td>\n",
              "      <td>10</td>\n",
              "      <td>10</td>\n",
              "    </tr>\n",
              "    <tr>\n",
              "      <th>All</th>\n",
              "      <td>10</td>\n",
              "      <td>10</td>\n",
              "      <td>10</td>\n",
              "      <td>30</td>\n",
              "    </tr>\n",
              "  </tbody>\n",
              "</table>\n",
              "</div>"
            ],
            "text/plain": [
              "Predicted        Iris-setosa  Iris-versicolor  Iris-virginica  All\n",
              "True                                                              \n",
              "Iris-setosa               10                0               0   10\n",
              "Iris-versicolor            0               10               0   10\n",
              "Iris-virginica             0                0              10   10\n",
              "All                       10               10              10   30"
            ]
          },
          "metadata": {},
          "execution_count": 81
        }
      ]
    },
    {
      "cell_type": "code",
      "metadata": {
        "colab": {
          "base_uri": "https://localhost:8080/"
        },
        "id": "Fdk7FQjaF8gR",
        "outputId": "00530a91-3d42-43e7-9202-cbd4763f8c98"
      },
      "source": [
        "from sklearn.metrics import classification_report\n",
        "print(classification_report(y_test,y_pred))"
      ],
      "execution_count": null,
      "outputs": [
        {
          "output_type": "stream",
          "name": "stdout",
          "text": [
            "                 precision    recall  f1-score   support\n",
            "\n",
            "    Iris-setosa       1.00      1.00      1.00        10\n",
            "Iris-versicolor       1.00      1.00      1.00        10\n",
            " Iris-virginica       1.00      1.00      1.00        10\n",
            "\n",
            "       accuracy                           1.00        30\n",
            "      macro avg       1.00      1.00      1.00        30\n",
            "   weighted avg       1.00      1.00      1.00        30\n",
            "\n"
          ]
        }
      ]
    },
    {
      "cell_type": "code",
      "metadata": {
        "colab": {
          "base_uri": "https://localhost:8080/"
        },
        "id": "ddcjtOPqF-b3",
        "outputId": "103cd5f1-2d6f-4572-9c44-05c1b5e5a2c6"
      },
      "source": [
        "y_train_pred=knn.predict(X)\n",
        "print(classification_report(y,y_train_pred))"
      ],
      "execution_count": null,
      "outputs": [
        {
          "output_type": "stream",
          "name": "stdout",
          "text": [
            "                 precision    recall  f1-score   support\n",
            "\n",
            "    Iris-setosa       1.00      1.00      1.00        50\n",
            "Iris-versicolor       0.96      0.96      0.96        50\n",
            " Iris-virginica       0.96      0.96      0.96        50\n",
            "\n",
            "       accuracy                           0.97       150\n",
            "      macro avg       0.97      0.97      0.97       150\n",
            "   weighted avg       0.97      0.97      0.97       150\n",
            "\n"
          ]
        }
      ]
    },
    {
      "cell_type": "code",
      "metadata": {
        "colab": {
          "base_uri": "https://localhost:8080/"
        },
        "id": "nh4RoAliGBZf",
        "outputId": "45e0bd23-a540-4b09-d460-43bbda775566"
      },
      "source": [
        "y_pred_proba=knn.predict_proba(X)\n",
        "y_pred_proba"
      ],
      "execution_count": null,
      "outputs": [
        {
          "output_type": "execute_result",
          "data": {
            "text/plain": [
              "array([[1. , 0. , 0. ],\n",
              "       [1. , 0. , 0. ],\n",
              "       [1. , 0. , 0. ],\n",
              "       [1. , 0. , 0. ],\n",
              "       [1. , 0. , 0. ],\n",
              "       [1. , 0. , 0. ],\n",
              "       [1. , 0. , 0. ],\n",
              "       [1. , 0. , 0. ],\n",
              "       [1. , 0. , 0. ],\n",
              "       [1. , 0. , 0. ],\n",
              "       [1. , 0. , 0. ],\n",
              "       [1. , 0. , 0. ],\n",
              "       [1. , 0. , 0. ],\n",
              "       [1. , 0. , 0. ],\n",
              "       [1. , 0. , 0. ],\n",
              "       [1. , 0. , 0. ],\n",
              "       [1. , 0. , 0. ],\n",
              "       [1. , 0. , 0. ],\n",
              "       [1. , 0. , 0. ],\n",
              "       [1. , 0. , 0. ],\n",
              "       [1. , 0. , 0. ],\n",
              "       [1. , 0. , 0. ],\n",
              "       [1. , 0. , 0. ],\n",
              "       [1. , 0. , 0. ],\n",
              "       [1. , 0. , 0. ],\n",
              "       [1. , 0. , 0. ],\n",
              "       [1. , 0. , 0. ],\n",
              "       [1. , 0. , 0. ],\n",
              "       [1. , 0. , 0. ],\n",
              "       [1. , 0. , 0. ],\n",
              "       [1. , 0. , 0. ],\n",
              "       [1. , 0. , 0. ],\n",
              "       [1. , 0. , 0. ],\n",
              "       [1. , 0. , 0. ],\n",
              "       [1. , 0. , 0. ],\n",
              "       [1. , 0. , 0. ],\n",
              "       [1. , 0. , 0. ],\n",
              "       [1. , 0. , 0. ],\n",
              "       [1. , 0. , 0. ],\n",
              "       [1. , 0. , 0. ],\n",
              "       [1. , 0. , 0. ],\n",
              "       [1. , 0. , 0. ],\n",
              "       [1. , 0. , 0. ],\n",
              "       [1. , 0. , 0. ],\n",
              "       [1. , 0. , 0. ],\n",
              "       [1. , 0. , 0. ],\n",
              "       [1. , 0. , 0. ],\n",
              "       [1. , 0. , 0. ],\n",
              "       [1. , 0. , 0. ],\n",
              "       [1. , 0. , 0. ],\n",
              "       [0. , 1. , 0. ],\n",
              "       [0. , 1. , 0. ],\n",
              "       [0. , 1. , 0. ],\n",
              "       [0. , 1. , 0. ],\n",
              "       [0. , 1. , 0. ],\n",
              "       [0. , 1. , 0. ],\n",
              "       [0. , 1. , 0. ],\n",
              "       [0. , 1. , 0. ],\n",
              "       [0. , 1. , 0. ],\n",
              "       [0. , 1. , 0. ],\n",
              "       [0. , 1. , 0. ],\n",
              "       [0. , 1. , 0. ],\n",
              "       [0. , 1. , 0. ],\n",
              "       [0. , 0.8, 0.2],\n",
              "       [0. , 1. , 0. ],\n",
              "       [0. , 1. , 0. ],\n",
              "       [0. , 1. , 0. ],\n",
              "       [0. , 1. , 0. ],\n",
              "       [0. , 0.8, 0.2],\n",
              "       [0. , 1. , 0. ],\n",
              "       [0. , 0.6, 0.4],\n",
              "       [0. , 1. , 0. ],\n",
              "       [0. , 0.4, 0.6],\n",
              "       [0. , 1. , 0. ],\n",
              "       [0. , 1. , 0. ],\n",
              "       [0. , 1. , 0. ],\n",
              "       [0. , 1. , 0. ],\n",
              "       [0. , 0.6, 0.4],\n",
              "       [0. , 1. , 0. ],\n",
              "       [0. , 1. , 0. ],\n",
              "       [0. , 1. , 0. ],\n",
              "       [0. , 1. , 0. ],\n",
              "       [0. , 1. , 0. ],\n",
              "       [0. , 0.2, 0.8],\n",
              "       [0. , 1. , 0. ],\n",
              "       [0. , 1. , 0. ],\n",
              "       [0. , 1. , 0. ],\n",
              "       [0. , 1. , 0. ],\n",
              "       [0. , 1. , 0. ],\n",
              "       [0. , 1. , 0. ],\n",
              "       [0. , 1. , 0. ],\n",
              "       [0. , 1. , 0. ],\n",
              "       [0. , 1. , 0. ],\n",
              "       [0. , 1. , 0. ],\n",
              "       [0. , 1. , 0. ],\n",
              "       [0. , 1. , 0. ],\n",
              "       [0. , 1. , 0. ],\n",
              "       [0. , 1. , 0. ],\n",
              "       [0. , 1. , 0. ],\n",
              "       [0. , 1. , 0. ],\n",
              "       [0. , 0. , 1. ],\n",
              "       [0. , 0. , 1. ],\n",
              "       [0. , 0. , 1. ],\n",
              "       [0. , 0. , 1. ],\n",
              "       [0. , 0. , 1. ],\n",
              "       [0. , 0. , 1. ],\n",
              "       [0. , 0.8, 0.2],\n",
              "       [0. , 0. , 1. ],\n",
              "       [0. , 0. , 1. ],\n",
              "       [0. , 0. , 1. ],\n",
              "       [0. , 0. , 1. ],\n",
              "       [0. , 0. , 1. ],\n",
              "       [0. , 0. , 1. ],\n",
              "       [0. , 0. , 1. ],\n",
              "       [0. , 0. , 1. ],\n",
              "       [0. , 0. , 1. ],\n",
              "       [0. , 0. , 1. ],\n",
              "       [0. , 0. , 1. ],\n",
              "       [0. , 0. , 1. ],\n",
              "       [0. , 0.6, 0.4],\n",
              "       [0. , 0. , 1. ],\n",
              "       [0. , 0. , 1. ],\n",
              "       [0. , 0. , 1. ],\n",
              "       [0. , 0.2, 0.8],\n",
              "       [0. , 0. , 1. ],\n",
              "       [0. , 0. , 1. ],\n",
              "       [0. , 0.2, 0.8],\n",
              "       [0. , 0.4, 0.6],\n",
              "       [0. , 0. , 1. ],\n",
              "       [0. , 0. , 1. ],\n",
              "       [0. , 0. , 1. ],\n",
              "       [0. , 0. , 1. ],\n",
              "       [0. , 0. , 1. ],\n",
              "       [0. , 0.4, 0.6],\n",
              "       [0. , 0.2, 0.8],\n",
              "       [0. , 0. , 1. ],\n",
              "       [0. , 0. , 1. ],\n",
              "       [0. , 0. , 1. ],\n",
              "       [0. , 0.4, 0.6],\n",
              "       [0. , 0. , 1. ],\n",
              "       [0. , 0. , 1. ],\n",
              "       [0. , 0. , 1. ],\n",
              "       [0. , 0. , 1. ],\n",
              "       [0. , 0. , 1. ],\n",
              "       [0. , 0. , 1. ],\n",
              "       [0. , 0. , 1. ],\n",
              "       [0. , 0.2, 0.8],\n",
              "       [0. , 0. , 1. ],\n",
              "       [0. , 0. , 1. ],\n",
              "       [0. , 0.4, 0.6]])"
            ]
          },
          "metadata": {},
          "execution_count": 84
        }
      ]
    },
    {
      "cell_type": "code",
      "metadata": {
        "id": "5ia643cPGDvH"
      },
      "source": [
        "neighbors = np.arange(1,15)\n",
        "\n",
        "train_accuracy =np.empty(len(neighbors))\n",
        "test_accuracy = np.empty(len(neighbors))\n",
        "\n",
        "for i,k in enumerate(neighbors):\n",
        "    knn = KNeighborsClassifier(n_neighbors=k)\n",
        "    knn.fit(X_train, y_train)\n",
        "    train_accuracy[i] = knn.score(X_train, y_train)\n",
        "    test_accuracy[i] = knn.score(X_test, y_test) "
      ],
      "execution_count": null,
      "outputs": []
    },
    {
      "cell_type": "code",
      "metadata": {
        "colab": {
          "base_uri": "https://localhost:8080/",
          "height": 295
        },
        "id": "nVBiwh_VGFpw",
        "outputId": "e6fe424c-b968-4e25-cc8e-f7284a40adb4"
      },
      "source": [
        "plt.title('k-NN')\n",
        "plt.plot(neighbors, test_accuracy, label='Testing Accuracy')\n",
        "plt.plot(neighbors, train_accuracy, label='Training accuracy')\n",
        "plt.legend()\n",
        "plt.xlabel('Number of neighbors')\n",
        "plt.ylabel('Accuracy')\n",
        "plt.show()"
      ],
      "execution_count": null,
      "outputs": [
        {
          "output_type": "display_data",
          "data": {
            "image/png": "[encoded data removed]",
            "text/plain": [
              "<Figure size 432x288 with 1 Axes>"
            ]
          },
          "metadata": {
            "needs_background": "light"
          }
        }
      ]
    },
    {
      "cell_type": "code",
      "metadata": {
        "colab": {
          "base_uri": "https://localhost:8080/"
        },
        "id": "FWfXdjfaGNBp",
        "outputId": "0690f4fa-9730-41e2-f16e-ab3ca9f453ba"
      },
      "source": [
        "knn = KNeighborsClassifier(n_neighbors=9, metric='euclidean')\n",
        "knn.fit(X_train,y_train)"
      ],
      "execution_count": null,
      "outputs": [
        {
          "output_type": "execute_result",
          "data": {
            "text/plain": [
              "KNeighborsClassifier(algorithm='auto', leaf_size=30, metric='euclidean',\n",
              "                     metric_params=None, n_jobs=None, n_neighbors=9, p=2,\n",
              "                     weights='uniform')"
            ]
          },
          "metadata": {},
          "execution_count": 87
        }
      ]
    },
    {
      "cell_type": "code",
      "metadata": {
        "colab": {
          "base_uri": "https://localhost:8080/"
        },
        "id": "-881W43dGNws",
        "outputId": "e2ea3088-d90d-4213-cc1f-480edc2c4e09"
      },
      "source": [
        "knn.score(X_test,y_test)"
      ],
      "execution_count": null,
      "outputs": [
        {
          "output_type": "execute_result",
          "data": {
            "text/plain": [
              "1.0"
            ]
          },
          "metadata": {},
          "execution_count": 88
        }
      ]
    },
    {
      "cell_type": "code",
      "metadata": {
        "colab": {
          "base_uri": "https://localhost:8080/"
        },
        "id": "H69KRIF_GPb1",
        "outputId": "8a274669-3aa2-43a3-dcc8-b5b000177ac9"
      },
      "source": [
        "knn.predict([[0.8, 1,0.6,3]])"
      ],
      "execution_count": null,
      "outputs": [
        {
          "output_type": "execute_result",
          "data": {
            "text/plain": [
              "array(['Iris-setosa'], dtype=object)"
            ]
          },
          "metadata": {},
          "execution_count": 90
        }
      ]
    },
    {
      "cell_type": "code",
      "metadata": {
        "colab": {
          "base_uri": "https://localhost:8080/"
        },
        "id": "6C5eDK4TGPVi",
        "outputId": "02dd6d07-d3ae-4a89-e918-131652c02bab"
      },
      "source": [
        "knn.predict_proba([[0.8, 1,0.6,3]])"
      ],
      "execution_count": null,
      "outputs": [
        {
          "output_type": "execute_result",
          "data": {
            "text/plain": [
              "array([[1., 0., 0.]])"
            ]
          },
          "metadata": {},
          "execution_count": 89
        }
      ]
    },
    {
      "cell_type": "markdown",
      "metadata": {
        "id": "r_ssYMnKGmOl"
      },
      "source": [
        "Para probar parámetros como en el K-NN la K, se puede también utilizar la siguiente función"
      ]
    },
    {
      "cell_type": "code",
      "metadata": {
        "id": "aLl3xgkfGomQ"
      },
      "source": [
        "#import GridSearchCV\n",
        "from sklearn.model_selection import GridSearchCV\n",
        "param_grid = {'n_neighbors':np.arange(1,50)}"
      ],
      "execution_count": null,
      "outputs": []
    },
    {
      "cell_type": "code",
      "metadata": {
        "id": "IHiSsaUZGpDm"
      },
      "source": [
        "knn = KNeighborsClassifier()\n",
        "knn_cv= GridSearchCV(knn,param_grid,cv=10)\n",
        "knn_cv.fit(X_train,y_train)"
      ],
      "execution_count": null,
      "outputs": []
    },
    {
      "cell_type": "code",
      "metadata": {
        "id": "RfZMCZESGqhc"
      },
      "source": [
        "print(knn_cv.best_score_,knn_cv.best_params_)"
      ],
      "execution_count": null,
      "outputs": []
    },
    {
      "cell_type": "markdown",
      "metadata": {
        "id": "9J7kKXeDGr9x"
      },
      "source": [
        "####Validacion Cruzada"
      ]
    },
    {
      "cell_type": "code",
      "metadata": {
        "id": "lcQ_GOwUGun5"
      },
      "source": [
        "from sklearn.model_selection import cross_validate\n",
        "from sklearn.model_selection import cross_val_score\n",
        "from sklearn.metrics import recall_score\n",
        "from sklearn.model_selection import KFold\n",
        "\n",
        "scoring = ['precision_macro', 'recall_macro','f1_macro']\n",
        "knn = KNeighborsClassifier(n_neighbors=9, metric='euclidean')\n",
        "accuracy = cross_val_score(knn, X, y, cv=10)\n",
        "scores = cross_validate(knn, X,y, scoring=scoring, cv=10)"
      ],
      "execution_count": null,
      "outputs": []
    },
    {
      "cell_type": "code",
      "metadata": {
        "id": "pDT9BxtAGwgZ"
      },
      "source": [
        "sorted(scores.keys())"
      ],
      "execution_count": null,
      "outputs": []
    },
    {
      "cell_type": "code",
      "metadata": {
        "id": "sTKkCZ0hGzo7"
      },
      "source": [
        "print(accuracy.mean())\n",
        "scores['test_recall_macro'].mean()"
      ],
      "execution_count": null,
      "outputs": []
    },
    {
      "cell_type": "markdown",
      "metadata": {
        "id": "_7qpFA_ZG2kO"
      },
      "source": [
        "Para el resto de los clasificadores use:\n",
        "\n",
        "MLP: from sklearn.neural_network import MLPClassifier\n",
        "SVM: from sklearn import svm"
      ]
    },
    {
      "cell_type": "code",
      "metadata": {
        "id": "HY7GCWSLG6fI"
      },
      "source": [
        "from sklearn.neural_network import MLPClassifier\n",
        "#Ejemplo de un MLP con dos capas con 5 y 2 neuronas respectivamente\n",
        "mlp = MLPClassifier(solver='lbfgs', alpha=1e-5,hidden_layer_sizes=10, random_state=1,max_iter=1000)\n"
      ],
      "execution_count": null,
      "outputs": []
    },
    {
      "cell_type": "code",
      "metadata": {
        "id": "sxuZs_g-G8NY"
      },
      "source": [
        "mlp.fit(X_train,y_train)"
      ],
      "execution_count": null,
      "outputs": []
    },
    {
      "cell_type": "code",
      "metadata": {
        "id": "HQGxNiLJG9tT",
        "colab": {
          "base_uri": "https://localhost:8080/",
          "height": 449
        },
        "outputId": "8d8fce4e-3341-4704-b7fe-71da4a2f51fd"
      },
      "source": [
        "scoring = ['recall_macro','f1-score','precision']\n",
        "score_mlp=cross_validate(mlp, X,y, scoring=scoring, cv=10)\n",
        "accuracy = cross_val_score(mlp, X, y, cv=10)"
      ],
      "execution_count": null,
      "outputs": [
        {
          "output_type": "error",
          "ename": "ValueError",
          "evalue": "ignored",
          "traceback": [
            "\u001b[0;31m---------------------------------------------------------------------------\u001b[0m",
            "\u001b[0;31mKeyError\u001b[0m                                  Traceback (most recent call last)",
            "\u001b[0;32m/usr/local/lib/python3.7/dist-packages/sklearn/metrics/_scorer.py\u001b[0m in \u001b[0;36mget_scorer\u001b[0;34m(scoring)\u001b[0m\n\u001b[1;32m    358\u001b[0m             \u001b[0;32melse\u001b[0m\u001b[0;34m:\u001b[0m\u001b[0;34m\u001b[0m\u001b[0;34m\u001b[0m\u001b[0m\n\u001b[0;32m--> 359\u001b[0;31m                 \u001b[0mscorer\u001b[0m \u001b[0;34m=\u001b[0m \u001b[0mSCORERS\u001b[0m\u001b[0;34m[\u001b[0m\u001b[0mscoring\u001b[0m\u001b[0;34m]\u001b[0m\u001b[0;34m\u001b[0m\u001b[0;34m\u001b[0m\u001b[0m\n\u001b[0m\u001b[1;32m    360\u001b[0m         \u001b[0;32mexcept\u001b[0m \u001b[0mKeyError\u001b[0m\u001b[0;34m:\u001b[0m\u001b[0;34m\u001b[0m\u001b[0;34m\u001b[0m\u001b[0m\n",
            "\u001b[0;31mKeyError\u001b[0m: 'f1-score'",
            "\nDuring handling of the above exception, another exception occurred:\n",
            "\u001b[0;31mValueError\u001b[0m                                Traceback (most recent call last)",
            "\u001b[0;32m<ipython-input-91-ddfcc97cac68>\u001b[0m in \u001b[0;36m<module>\u001b[0;34m()\u001b[0m\n\u001b[1;32m      1\u001b[0m \u001b[0mscoring\u001b[0m \u001b[0;34m=\u001b[0m \u001b[0;34m[\u001b[0m\u001b[0;34m'recall_macro'\u001b[0m\u001b[0;34m,\u001b[0m\u001b[0;34m'f1-score'\u001b[0m\u001b[0;34m,\u001b[0m\u001b[0;34m'precision'\u001b[0m\u001b[0;34m]\u001b[0m\u001b[0;34m\u001b[0m\u001b[0;34m\u001b[0m\u001b[0m\n\u001b[0;32m----> 2\u001b[0;31m \u001b[0mscore_mlp\u001b[0m\u001b[0;34m=\u001b[0m\u001b[0mcross_validate\u001b[0m\u001b[0;34m(\u001b[0m\u001b[0mmlp\u001b[0m\u001b[0;34m,\u001b[0m \u001b[0mX\u001b[0m\u001b[0;34m,\u001b[0m\u001b[0my\u001b[0m\u001b[0;34m,\u001b[0m \u001b[0mscoring\u001b[0m\u001b[0;34m=\u001b[0m\u001b[0mscoring\u001b[0m\u001b[0;34m,\u001b[0m \u001b[0mcv\u001b[0m\u001b[0;34m=\u001b[0m\u001b[0;36m10\u001b[0m\u001b[0;34m)\u001b[0m\u001b[0;34m\u001b[0m\u001b[0;34m\u001b[0m\u001b[0m\n\u001b[0m\u001b[1;32m      3\u001b[0m \u001b[0maccuracy\u001b[0m \u001b[0;34m=\u001b[0m \u001b[0mcross_val_score\u001b[0m\u001b[0;34m(\u001b[0m\u001b[0mmlp\u001b[0m\u001b[0;34m,\u001b[0m \u001b[0mX\u001b[0m\u001b[0;34m,\u001b[0m \u001b[0my\u001b[0m\u001b[0;34m,\u001b[0m \u001b[0mcv\u001b[0m\u001b[0;34m=\u001b[0m\u001b[0;36m10\u001b[0m\u001b[0;34m)\u001b[0m\u001b[0;34m\u001b[0m\u001b[0;34m\u001b[0m\u001b[0m\n",
            "\u001b[0;32m/usr/local/lib/python3.7/dist-packages/sklearn/model_selection/_validation.py\u001b[0m in \u001b[0;36mcross_validate\u001b[0;34m(estimator, X, y, groups, scoring, cv, n_jobs, verbose, fit_params, pre_dispatch, return_train_score, return_estimator, error_score)\u001b[0m\n\u001b[1;32m    222\u001b[0m \u001b[0;34m\u001b[0m\u001b[0m\n\u001b[1;32m    223\u001b[0m     \u001b[0mcv\u001b[0m \u001b[0;34m=\u001b[0m \u001b[0mcheck_cv\u001b[0m\u001b[0;34m(\u001b[0m\u001b[0mcv\u001b[0m\u001b[0;34m,\u001b[0m \u001b[0my\u001b[0m\u001b[0;34m,\u001b[0m \u001b[0mclassifier\u001b[0m\u001b[0;34m=\u001b[0m\u001b[0mis_classifier\u001b[0m\u001b[0;34m(\u001b[0m\u001b[0mestimator\u001b[0m\u001b[0;34m)\u001b[0m\u001b[0;34m)\u001b[0m\u001b[0;34m\u001b[0m\u001b[0;34m\u001b[0m\u001b[0m\n\u001b[0;32m--> 224\u001b[0;31m     \u001b[0mscorers\u001b[0m\u001b[0;34m,\u001b[0m \u001b[0m_\u001b[0m \u001b[0;34m=\u001b[0m \u001b[0m_check_multimetric_scoring\u001b[0m\u001b[0;34m(\u001b[0m\u001b[0mestimator\u001b[0m\u001b[0;34m,\u001b[0m \u001b[0mscoring\u001b[0m\u001b[0;34m=\u001b[0m\u001b[0mscoring\u001b[0m\u001b[0;34m)\u001b[0m\u001b[0;34m\u001b[0m\u001b[0;34m\u001b[0m\u001b[0m\n\u001b[0m\u001b[1;32m    225\u001b[0m \u001b[0;34m\u001b[0m\u001b[0m\n\u001b[1;32m    226\u001b[0m     \u001b[0;31m# We clone the estimator to make sure that all the folds are\u001b[0m\u001b[0;34m\u001b[0m\u001b[0;34m\u001b[0m\u001b[0;34m\u001b[0m\u001b[0m\n",
            "\u001b[0;32m/usr/local/lib/python3.7/dist-packages/sklearn/metrics/_scorer.py\u001b[0m in \u001b[0;36m_check_multimetric_scoring\u001b[0;34m(estimator, scoring)\u001b[0m\n\u001b[1;32m    509\u001b[0m                                          % repr(scoring))\n\u001b[1;32m    510\u001b[0m                 scorers = {scorer: check_scoring(estimator, scoring=scorer)\n\u001b[0;32m--> 511\u001b[0;31m                            for scorer in scoring}\n\u001b[0m\u001b[1;32m    512\u001b[0m             \u001b[0;32melse\u001b[0m\u001b[0;34m:\u001b[0m\u001b[0;34m\u001b[0m\u001b[0;34m\u001b[0m\u001b[0m\n\u001b[1;32m    513\u001b[0m                 raise ValueError(err_msg +\n",
            "\u001b[0;32m/usr/local/lib/python3.7/dist-packages/sklearn/metrics/_scorer.py\u001b[0m in \u001b[0;36m<dictcomp>\u001b[0;34m(.0)\u001b[0m\n\u001b[1;32m    509\u001b[0m                                          % repr(scoring))\n\u001b[1;32m    510\u001b[0m                 scorers = {scorer: check_scoring(estimator, scoring=scorer)\n\u001b[0;32m--> 511\u001b[0;31m                            for scorer in scoring}\n\u001b[0m\u001b[1;32m    512\u001b[0m             \u001b[0;32melse\u001b[0m\u001b[0;34m:\u001b[0m\u001b[0;34m\u001b[0m\u001b[0;34m\u001b[0m\u001b[0m\n\u001b[1;32m    513\u001b[0m                 raise ValueError(err_msg +\n",
            "\u001b[0;32m/usr/local/lib/python3.7/dist-packages/sklearn/metrics/_scorer.py\u001b[0m in \u001b[0;36mcheck_scoring\u001b[0;34m(estimator, scoring, allow_none)\u001b[0m\n\u001b[1;32m    401\u001b[0m                         \"'fit' method, %r was passed\" % estimator)\n\u001b[1;32m    402\u001b[0m     \u001b[0;32mif\u001b[0m \u001b[0misinstance\u001b[0m\u001b[0;34m(\u001b[0m\u001b[0mscoring\u001b[0m\u001b[0;34m,\u001b[0m \u001b[0mstr\u001b[0m\u001b[0;34m)\u001b[0m\u001b[0;34m:\u001b[0m\u001b[0;34m\u001b[0m\u001b[0;34m\u001b[0m\u001b[0m\n\u001b[0;32m--> 403\u001b[0;31m         \u001b[0;32mreturn\u001b[0m \u001b[0mget_scorer\u001b[0m\u001b[0;34m(\u001b[0m\u001b[0mscoring\u001b[0m\u001b[0;34m)\u001b[0m\u001b[0;34m\u001b[0m\u001b[0;34m\u001b[0m\u001b[0m\n\u001b[0m\u001b[1;32m    404\u001b[0m     \u001b[0;32melif\u001b[0m \u001b[0mcallable\u001b[0m\u001b[0;34m(\u001b[0m\u001b[0mscoring\u001b[0m\u001b[0;34m)\u001b[0m\u001b[0;34m:\u001b[0m\u001b[0;34m\u001b[0m\u001b[0;34m\u001b[0m\u001b[0m\n\u001b[1;32m    405\u001b[0m         \u001b[0;31m# Heuristic to ensure user has not passed a metric\u001b[0m\u001b[0;34m\u001b[0m\u001b[0;34m\u001b[0m\u001b[0;34m\u001b[0m\u001b[0m\n",
            "\u001b[0;32m/usr/local/lib/python3.7/dist-packages/sklearn/metrics/_scorer.py\u001b[0m in \u001b[0;36mget_scorer\u001b[0;34m(scoring)\u001b[0m\n\u001b[1;32m    361\u001b[0m             raise ValueError('%r is not a valid scoring value. '\n\u001b[1;32m    362\u001b[0m                              \u001b[0;34m'Use sorted(sklearn.metrics.SCORERS.keys()) '\u001b[0m\u001b[0;34m\u001b[0m\u001b[0;34m\u001b[0m\u001b[0m\n\u001b[0;32m--> 363\u001b[0;31m                              'to get valid options.' % scoring)\n\u001b[0m\u001b[1;32m    364\u001b[0m     \u001b[0;32melse\u001b[0m\u001b[0;34m:\u001b[0m\u001b[0;34m\u001b[0m\u001b[0;34m\u001b[0m\u001b[0m\n\u001b[1;32m    365\u001b[0m         \u001b[0mscorer\u001b[0m \u001b[0;34m=\u001b[0m \u001b[0mscoring\u001b[0m\u001b[0;34m\u001b[0m\u001b[0;34m\u001b[0m\u001b[0m\n",
            "\u001b[0;31mValueError\u001b[0m: 'f1-score' is not a valid scoring value. Use sorted(sklearn.metrics.SCORERS.keys()) to get valid options."
          ]
        }
      ]
    },
    {
      "cell_type": "code",
      "metadata": {
        "colab": {
          "base_uri": "https://localhost:8080/"
        },
        "id": "13kKQxxBHAFL",
        "outputId": "282cce8e-569b-46cc-af15-569a06f2423e"
      },
      "source": [
        "print(score_mlp['test_recall_macro'].mean())\n",
        "print(accuracy.mean())"
      ],
      "execution_count": null,
      "outputs": [
        {
          "metadata": {
            "tags": null
          },
          "name": "stdout",
          "output_type": "stream",
          "text": [
            "0.9799999999999999\n",
            "0.9800000000000001\n"
          ]
        }
      ]
    },
    {
      "cell_type": "code",
      "metadata": {
        "colab": {
          "base_uri": "https://localhost:8080/"
        },
        "id": "dRBmH-NIHCwg",
        "outputId": "03a73b5c-6870-415c-d75c-8575644a07dc"
      },
      "source": [
        "param_grid = {'hidden_layer_sizes':np.arange(2,20)}\n",
        "mlp = MLPClassifier(solver='lbfgs', alpha=1e-5,random_state=1,max_iter=1000)\n",
        "mlp_cv= GridSearchCV(mlp,param_grid,cv=10)\n",
        "mlp_cv.fit(X,y)"
      ],
      "execution_count": null,
      "outputs": [
        {
          "metadata": {
            "tags": null
          },
          "name": "stderr",
          "output_type": "stream",
          "text": [
            "/usr/local/lib/python3.7/dist-packages/sklearn/neural_network/_multilayer_perceptron.py:470: ConvergenceWarning: lbfgs failed to converge (status=2):\n",
            "ABNORMAL_TERMINATION_IN_LNSRCH.\n",
            "\n",
            "Increase the number of iterations (max_iter) or scale the data as shown in:\n",
            "    https://scikit-learn.org/stable/modules/preprocessing.html\n",
            "  self.n_iter_ = _check_optimize_result(\"lbfgs\", opt_res, self.max_iter)\n"
          ]
        },
        {
          "data": {
            "text/plain": [
              "GridSearchCV(cv=10, error_score=nan,\n",
              "             estimator=MLPClassifier(activation='relu', alpha=1e-05,\n",
              "                                     batch_size='auto', beta_1=0.9,\n",
              "                                     beta_2=0.999, early_stopping=False,\n",
              "                                     epsilon=1e-08, hidden_layer_sizes=(100,),\n",
              "                                     learning_rate='constant',\n",
              "                                     learning_rate_init=0.001, max_fun=15000,\n",
              "                                     max_iter=1000, momentum=0.9,\n",
              "                                     n_iter_no_change=10,\n",
              "                                     nesterovs_momentum=True, power_t=0.5,\n",
              "                                     random_state=1, shuffle=True,\n",
              "                                     solver='lbfgs', tol=0.0001,\n",
              "                                     validation_fraction=0.1, verbose=False,\n",
              "                                     warm_start=False),\n",
              "             iid='deprecated', n_jobs=None,\n",
              "             param_grid={'hidden_layer_sizes': array([ 2,  3,  4,  5,  6,  7,  8,  9, 10, 11, 12, 13, 14, 15, 16, 17, 18,\n",
              "       19])},\n",
              "             pre_dispatch='2*n_jobs', refit=True, return_train_score=False,\n",
              "             scoring=None, verbose=0)"
            ]
          },
          "execution_count": null,
          "metadata": {},
          "output_type": "execute_result"
        }
      ]
    },
    {
      "cell_type": "code",
      "metadata": {
        "colab": {
          "base_uri": "https://localhost:8080/"
        },
        "id": "HJ4FpBU8HEfu",
        "outputId": "3ba89cf8-f3c5-4809-fdd4-633f004fdf5a"
      },
      "source": [
        "print(mlp_cv.best_score_,mlp_cv.best_params_)"
      ],
      "execution_count": null,
      "outputs": [
        {
          "metadata": {
            "tags": null
          },
          "name": "stdout",
          "output_type": "stream",
          "text": [
            "0.9866666666666667 {'hidden_layer_sizes': 4}\n"
          ]
        }
      ]
    },
    {
      "cell_type": "code",
      "metadata": {
        "id": "xhgnZi_NHFsK"
      },
      "source": [
        "from sklearn import svm\n",
        "from sklearn.svm import SVR"
      ],
      "execution_count": null,
      "outputs": []
    },
    {
      "cell_type": "code",
      "metadata": {
        "id": "GLdzyqomHHUi"
      },
      "source": [
        "\n",
        "#Diferentes kernels de SVM\n",
        "svm=svm.SVC(kernel='linear', C=1).fit(X_train, y_train)\n",
        "svm_rbf = SVR(kernel='rbf', C=100, gamma=0.1, epsilon=.1)\n",
        "svm_lin = SVR(kernel='linear', C=100, gamma='auto')\n",
        "svm_poly = SVR(kernel='poly', C=100, gamma='auto', degree=3, epsilon=.1,coef0=1)"
      ],
      "execution_count": null,
      "outputs": []
    }
  ]
}