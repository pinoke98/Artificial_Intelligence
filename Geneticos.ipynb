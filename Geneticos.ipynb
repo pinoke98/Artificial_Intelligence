{
  "nbformat": 4,
  "nbformat_minor": 0,
  "metadata": {
    "colab": {
      "name": "Geneticos.ipynb",
      "provenance": [],
      "collapsed_sections": [],
      "include_colab_link": true
    },
    "kernelspec": {
      "name": "python3",
      "display_name": "Python 3"
    },
    "language_info": {
      "name": "python"
    }
  },
  "cells": [
    {
      "cell_type": "markdown",
      "metadata": {
        "id": "view-in-github",
        "colab_type": "text"
      },
      "source": [
        "<a href=\"https://colab.research.google.com/github/pinoke98/Artificial_Intelligence/blob/main/Geneticos.ipynb\" target=\"_parent\"><img src=\"https://colab.research.google.com/assets/colab-badge.svg\" alt=\"Open In Colab\"/></a>"
      ]
    },
    {
      "cell_type": "markdown",
      "source": [
        "**Using Genetic Algorith for the knapsak problem**"
      ],
      "metadata": {
        "id": "XvZMGONn5pbU"
      }
    },
    {
      "cell_type": "code",
      "metadata": {
        "id": "RaoNGXPp3pQn"
      },
      "source": [
        "import random\n",
        "import numpy as np\n",
        "import pandas as pd\n",
        "import matplotlib.pyplot as plt\n"
      ],
      "execution_count": null,
      "outputs": []
    },
    {
      "cell_type": "code",
      "metadata": {
        "id": "F5mORg99lQxT"
      },
      "source": [
        "def convertirDecimalABinario(numero):\n",
        "  while numero>0:\n",
        "    "
      ],
      "execution_count": null,
      "outputs": []
    },
    {
      "cell_type": "code",
      "metadata": {
        "id": "QZN6R0CYv8LN"
      },
      "source": [
        "class genetico():\n",
        "  def __init__ (self, genSize, populationSize, probCruce, probMutacion):\n",
        "    self.genSize = genSize\n",
        "    self.populationSize = populationSize\n",
        "    self.probCruce = probCruce\n",
        "    self.probMutacion = probMutacion\n",
        "\n",
        "  def generarPoblacionPrimera(self):\n",
        "    pass\n",
        "\n",
        "  def ruletaProb(self,poblacion):\n",
        "    score = [self.calidad(i) for i in poblacion]\n",
        "    probabilidad = np.array(score)/sum(score)\n",
        "    probacumulada = np.cumsum(probabilidad)\n",
        "    return probacumulada\n",
        "\n",
        "  def selection(self,poblacion):  \n",
        "    probaAcumuladaint = self.ruletaProb(poblacion)\n",
        "    aleatorio = np.random.uniform(0,1)\n",
        "\n",
        "    ind = 0  \n",
        "    for i in range(len(probaAcumuladaint)): ## aqui busco en la ruleta en donde cayo\n",
        "      if i==0 and aleatorio < probaAcumuladaint[i]:\n",
        "        ind=poblacion[i]\n",
        "      elif aleatorio >= probaAcumuladaint[i-1] and aleatorio< probaAcumuladaint[i]:\n",
        "        ind=poblacion[i]\n",
        "    return ind\n",
        "\n",
        "  def cruce(self,poblacion):\n",
        "    pass\n",
        "\n",
        "  def mutacion(self, poblacion):\n",
        "    pass\n",
        "  \n",
        "  def calidad(self, indv):\n",
        "    pass\n",
        "\n",
        "  def valido(self,indv):\n",
        "    pass\n",
        "\n",
        "  def algGeneticos(self,cantidadGeneraciones, limiteCalidad): \n",
        "    poblacion = self.generarPoblacionPrimera()\n",
        "    for i in range(cantidadGeneraciones):\n",
        "      poblacion = sorted(poblacion,key=self.calidad,reverse=True)\n",
        "\n",
        "      if self.calidad(poblacion[0]) >= limiteCalidad: \n",
        "        break\n",
        "\n",
        "      nuevaGeneracion = poblacion[0:2] ## guardamos los 2 mejores\n",
        "\n",
        "      while len(nuevaGeneracion)<self.populationSize:\n",
        "        crucep = self.cruce(poblacion)\n",
        "        for i in crucep: \n",
        "          if len(nuevaGeneracion)<self.populationSize: ## para que no se pase de los hijos\n",
        "            nuevaGeneracion.append(i)\n",
        "        if len(nuevaGeneracion)<self.populationSize:\n",
        "          nuevaGeneracion.append(self.mutacion(poblacion))\n",
        "\n",
        "      poblacion = nuevaGeneracion\n",
        "\n",
        "    poblacion = sorted(poblacion,key=self.calidad,reverse=True)\n",
        "    return poblacion\n",
        "\n",
        "  \n",
        "  "
      ],
      "execution_count": null,
      "outputs": []
    },
    {
      "cell_type": "code",
      "metadata": {
        "id": "mO5ZJHLqyovd"
      },
      "source": [
        "class knap(genetico):\n",
        "  minprecio = None\n",
        "  maxprecio = None\n",
        "  W=None\n",
        "  N=None\n",
        "\n",
        "  def __init__(self,W,minprecio,maxprecio,genSize, populationSize, probCruce, probMutacion):\n",
        "    self.W = W\n",
        "    self.N = genSize\n",
        "    self.populationSize = populationSize\n",
        "    self.minprecio = minprecio\n",
        "    self.maxprecio = maxprecio\n",
        "    self.probCruce = probCruce\n",
        "    self.probMutacion = probMutacion\n",
        "    self.pesos = (self.W/2)*np.random.random_sample((self.N,))\n",
        "    self.precios = (self.maxprecio-self.minprecio)*np.random.random_sample((self.N,))+self.minprecio\n",
        "  \n",
        "\n",
        "  def generarPoblacionPrimera(self):\n",
        "    poblacion = []\n",
        "    while len(poblacion)<self.populationSize:\n",
        "      candidato = np.random.randint(0,2,self.N).tolist()\n",
        "\n",
        "      if self.valido(candidato):\n",
        "        poblacion.append(candidato)\n",
        "    #print(poblacion)\n",
        "    return poblacion\n",
        "\n",
        "  def cruce(self, poblacion):\n",
        "    p1 = self.selection(poblacion)\n",
        "    p2 = self.selection(poblacion) # tengo que fijarme como hacer para que no sean iguales \n",
        "\n",
        "\n",
        "    cruzo = np.random.uniform(0,1)\n",
        "    if cruzo>self.probCruce: \n",
        "      return [p1,p2]\n",
        "\n",
        "    ptomedio = np.random.randint(1,N-1)\n",
        "\n",
        "    h1 = p1[0:ptomedio]\n",
        "    for i in range(ptomedio,N):\n",
        "      h1.append(p2[i])\n",
        "\n",
        "    h2 = p2[0:ptomedio]\n",
        "    for i in range(ptomedio,N):\n",
        "      h2.append(p1[i])\n",
        "\n",
        "\n",
        "    return [h1,h2] if self.valido(h1) and self.valido(h2) else [h1,p2] if self.valido(h1) and not self.valido(h2) else [p1,h2] if self.valido(h2) and not self.valido(h1) else [p1,p2]\n",
        "\n",
        "  def mutacion(self, poblacion):\n",
        "    p = self.selection(poblacion)\n",
        "    muto = np.random.uniform(0,1)\n",
        "    if muto>self.probMutacion:\n",
        "      return p\n",
        "\n",
        "    index = np.random.randint(0,N)\n",
        "    p[index] = 1-p[index]\n",
        "    return p if self.valido(p) else self.mutacion(poblacion)\n",
        "  \n",
        "  def calidad(self, indv):\n",
        "    if self.valido(indv):\n",
        "      return sum(indv*self.precios)\n",
        "    return 0.1 \n",
        "\n",
        "  def valido(self,indv):\n",
        "    return 0<sum(indv*self.pesos)<=W\n",
        "\n"
      ],
      "execution_count": null,
      "outputs": []
    },
    {
      "cell_type": "code",
      "metadata": {
        "id": "U_hHf-l-3JTs"
      },
      "source": [
        "#@title Cantidad de productos N y Peso de la mochila W, Rango de Precios\n",
        "N = 10 #@param {type:\"integer\"}\n",
        "W = 200#@param {type:\"integer\"}\n",
        "\n",
        "minprecio =  10#@param {type:\"number\"}\n",
        "maxprecio = 100 #@param {type:\"number\"}\n",
        "\n",
        "pesos = (W/2)*np.random.random_sample((N,))\n",
        "\n",
        "precios = (maxprecio-minprecio)*np.random.random_sample((N,))+minprecio"
      ],
      "execution_count": null,
      "outputs": []
    },
    {
      "cell_type": "code",
      "metadata": {
        "id": "NenLBOmF4OKY",
        "cellView": "form"
      },
      "source": [
        "#@title Tamaño Poblacion\n",
        "NP =  15#@param {type:\"integer\"}"
      ],
      "execution_count": null,
      "outputs": []
    },
    {
      "cell_type": "code",
      "metadata": {
        "id": "_cSMLZ4C2E4M"
      },
      "source": [
        "gens = knap(W,minprecio,maxprecio,N,NP,0.8,0.3)"
      ],
      "execution_count": null,
      "outputs": []
    },
    {
      "cell_type": "code",
      "metadata": {
        "colab": {
          "base_uri": "https://localhost:8080/"
        },
        "id": "P5OLiFNy5vny",
        "outputId": "9a07a3d1-5336-4f75-f844-2a6385d0a559"
      },
      "source": [
        "gens.algGeneticos(15,450)"
      ],
      "execution_count": null,
      "outputs": [
        {
          "output_type": "execute_result",
          "data": {
            "text/plain": [
              "[[0, 1, 0, 1, 0, 1, 1, 0, 0, 1],\n",
              " [0, 1, 0, 1, 0, 1, 1, 0, 0, 1],\n",
              " [0, 1, 0, 1, 0, 1, 1, 0, 0, 1],\n",
              " [0, 1, 0, 1, 0, 1, 1, 0, 0, 1],\n",
              " [0, 1, 0, 1, 0, 1, 1, 0, 0, 1],\n",
              " [0, 1, 0, 1, 0, 1, 1, 0, 0, 1],\n",
              " [0, 1, 0, 1, 0, 1, 1, 0, 0, 1],\n",
              " [0, 1, 0, 1, 0, 1, 1, 0, 0, 1],\n",
              " [0, 1, 0, 1, 0, 1, 1, 0, 0, 1],\n",
              " [0, 1, 0, 1, 0, 1, 1, 0, 0, 1],\n",
              " [0, 1, 0, 1, 0, 1, 1, 0, 0, 1],\n",
              " [0, 1, 0, 1, 0, 1, 1, 0, 0, 1],\n",
              " [0, 1, 0, 1, 0, 1, 1, 0, 0, 1],\n",
              " [0, 1, 0, 1, 0, 0, 1, 0, 0, 1],\n",
              " [0, 1, 0, 1, 0, 0, 1, 0, 0, 1]]"
            ]
          },
          "metadata": {},
          "execution_count": 28
        }
      ]
    },
    {
      "cell_type": "code",
      "metadata": {
        "colab": {
          "base_uri": "https://localhost:8080/"
        },
        "id": "n0Kyngl0ubtQ",
        "outputId": "4250d5bd-90db-4a46-80c4-313ec055391f"
      },
      "source": [
        "print(precios)\n",
        "print(pesos)"
      ],
      "execution_count": null,
      "outputs": [
        {
          "output_type": "stream",
          "name": "stdout",
          "text": [
            "[91.11708396 13.80323822 10.10322238 59.40363044 69.07881124 30.79682973\n",
            " 95.24465416 52.6794743  27.30514415 32.35263597]\n",
            "[84.48198144 87.12290074 33.79370212 86.34796895 17.10980033 57.62556375\n",
            " 66.61628979 20.51517169 47.29796067 80.26746054]\n"
          ]
        }
      ]
    },
    {
      "cell_type": "code",
      "metadata": {
        "colab": {
          "base_uri": "https://localhost:8080/"
        },
        "id": "2QEqv2C6S_p5",
        "outputId": "cc4ae8cf-8123-47b1-dd3e-1ee7345d618e"
      },
      "source": [
        "algGenetico(N,NP,15,450,0.3,0.8)"
      ],
      "execution_count": null,
      "outputs": [
        {
          "output_type": "execute_result",
          "data": {
            "text/plain": [
              "[[1, 0, 0, 0, 1, 0, 1, 1, 0, 0],\n",
              " [1, 0, 0, 0, 1, 0, 1, 1, 0, 0],\n",
              " [1, 0, 0, 0, 1, 0, 1, 1, 0, 0],\n",
              " [1, 0, 0, 0, 1, 0, 1, 1, 0, 0],\n",
              " [1, 0, 0, 0, 1, 0, 1, 1, 0, 0],\n",
              " [1, 0, 0, 0, 1, 0, 1, 1, 0, 0],\n",
              " [1, 0, 0, 0, 1, 0, 1, 1, 0, 0],\n",
              " [1, 0, 0, 0, 1, 0, 1, 1, 0, 0],\n",
              " [1, 0, 0, 0, 1, 0, 1, 1, 0, 0],\n",
              " [1, 0, 0, 0, 1, 0, 1, 1, 0, 0],\n",
              " [1, 0, 0, 0, 1, 0, 1, 1, 0, 0],\n",
              " [1, 0, 0, 0, 1, 0, 1, 1, 0, 0],\n",
              " [1, 0, 0, 0, 1, 0, 1, 1, 0, 0],\n",
              " [1, 0, 0, 0, 1, 0, 1, 0, 0, 0],\n",
              " [1, 0, 0, 0, 1, 0, 1, 0, 0, 0]]"
            ]
          },
          "metadata": {},
          "execution_count": 23
        }
      ]
    },
    {
      "cell_type": "code",
      "metadata": {
        "id": "7kRnW6tlC_xE"
      },
      "source": [
        "def algGenetico(N,NP,cantidadGeneraciones, limiteCalidad, probMutacion, probCruce): \n",
        "  poblacion = generatePoblacionPrimera(N,NP)\n",
        "  for i in range(cantidadGeneraciones):\n",
        "    poblacion = sorted(poblacion,key=calidad,reverse=True)\n",
        "\n",
        "    if calidad(poblacion[0]) >= limiteCalidad: \n",
        "      break\n",
        "\n",
        "    nuevaGeneracion = poblacion[0:2] ## guardamos los 2 mejores\n",
        "\n",
        "    while len(nuevaGeneracion)<NP:\n",
        "      crucep = cruce(poblacion, probCruce)\n",
        "      for i in crucep: \n",
        "        if len(nuevaGeneracion)<NP: ## para que no se pase de los hijos\n",
        "          nuevaGeneracion.append(i)\n",
        "      if len(nuevaGeneracion)<NP:\n",
        "        nuevaGeneracion.append(mutacion(poblacion, probMutacion))\n",
        "\n",
        "    poblacion = nuevaGeneracion\n",
        "\n",
        "  poblacion = sorted(poblacion,key=calidad,reverse=True)\n",
        "  return poblacion"
      ],
      "execution_count": null,
      "outputs": []
    },
    {
      "cell_type": "code",
      "metadata": {
        "id": "7k72V2WG77nD"
      },
      "source": [
        "def generatePoblacionPrimera(N, NP): ##Crea poblacion valida\n",
        "  poblacion = []\n",
        "  while len(poblacion)<NP:\n",
        "    candidato = np.random.randint(0,2,N).tolist()\n",
        "\n",
        "    if valido(candidato):\n",
        "      poblacion.append(candidato)\n",
        "  #print(poblacion)\n",
        "  return poblacion"
      ],
      "execution_count": null,
      "outputs": []
    },
    {
      "cell_type": "code",
      "metadata": {
        "id": "fX8Iq789CCGD"
      },
      "source": [
        "def ruletaProb(poblacion):\n",
        "  score = [calidad(i) for i in poblacion]\n",
        "  probabilidad = np.array(score)/sum(score)\n",
        "  probacumulada = np.cumsum(probabilidad)\n",
        "  return probacumulada\n"
      ],
      "execution_count": null,
      "outputs": []
    },
    {
      "cell_type": "code",
      "metadata": {
        "id": "SYaTwqOBCr-E"
      },
      "source": [
        "def selection(poblacion):  \n",
        "  probaAcumuladaint = ruletaProb(poblacion)\n",
        "  aleatorio = np.random.uniform(0,1)\n",
        "\n",
        "  ind = 0  \n",
        "  for i in range(len(probaAcumuladaint)): ## aqui busco en la ruleta en donde cayo\n",
        "    if i==0 and aleatorio < probaAcumuladaint[i]:\n",
        "      ind=poblacion[i]\n",
        "    elif aleatorio >= probaAcumuladaint[i-1] and aleatorio< probaAcumuladaint[i]:\n",
        "      ind=poblacion[i]\n",
        "  return ind"
      ],
      "execution_count": null,
      "outputs": []
    },
    {
      "cell_type": "code",
      "metadata": {
        "id": "qSSZsDq0CyHY"
      },
      "source": [
        "def cruce(poblacion, probCruce): #cruce de un solo punto \n",
        "  p1 = selection(poblacion)\n",
        "  p2 = selection(poblacion) # tengo que fijarme como hacer para que no sean iguales \n",
        "\n",
        "\n",
        "  cruzo = np.random.uniform(0,1)\n",
        "  if cruzo>probCruce: \n",
        "    return [p1,p2]\n",
        "\n",
        "  ptomedio = np.random.randint(1,N-1)\n",
        "\n",
        "  h1 = p1[0:ptomedio]\n",
        "  for i in range(ptomedio,N):\n",
        "    h1.append(p2[i])\n",
        "\n",
        "  h2 = p2[0:ptomedio]\n",
        "  for i in range(ptomedio,N):\n",
        "    h2.append(p1[i])\n",
        "\n",
        "\n",
        "  return [h1,h2] if valido(h1) and valido(h2) else [h1] if valido(h1) and not valido(h2) else [h2] if valido(h2) and not valido (h1) else [p1,p2] # ver si esto se puede para garantizar un hijo valido\n"
      ],
      "execution_count": null,
      "outputs": []
    },
    {
      "cell_type": "code",
      "metadata": {
        "id": "LTvBz_MpC7Hl"
      },
      "source": [
        "def mutacion(poblacion, probMutacion): #mutacion de un bit\n",
        "  p = selection(poblacion)\n",
        "  muto = np.random.uniform(0,1)\n",
        "  if muto>probMutacion:\n",
        "    return p\n",
        "\n",
        "  padre = p  \n",
        "\n",
        "  index = np.random.randint(0,N)\n",
        "  p[index] = 1-p[index]\n",
        "  return p if valido(p) else mutacion(poblacion, probMutacion) # ver si esto se puede para garantizar un hijo valido\n",
        "  #return p if valido(p) else padre"
      ],
      "execution_count": null,
      "outputs": []
    },
    {
      "cell_type": "code",
      "metadata": {
        "id": "6Mvn0YXH6TfN"
      },
      "source": [
        "def calidad(indv):\n",
        "  return sum(indv*precios)\n"
      ],
      "execution_count": null,
      "outputs": []
    },
    {
      "cell_type": "code",
      "metadata": {
        "id": "iHxNclgn69tf"
      },
      "source": [
        "def valido(indv):\n",
        " return 0<sum(indv*pesos)<=W\n",
        " \n",
        "    "
      ],
      "execution_count": null,
      "outputs": []
    },
    {
      "cell_type": "code",
      "metadata": {
        "id": "4PYen9rt7jPE"
      },
      "source": [
        "def calidad(indv):\n",
        "  if valido(indv):\n",
        "    return sum(indv*precios)\n",
        "  return 0.1  "
      ],
      "execution_count": null,
      "outputs": []
    },
    {
      "cell_type": "code",
      "metadata": {
        "id": "22VvNo0u-HwL",
        "colab": {
          "base_uri": "https://localhost:8080/"
        },
        "outputId": "ec2076b0-60a7-4aad-a28d-ef927961dcd0"
      },
      "source": [
        "p=generatePoblacionPrimera(N,NP)\n",
        "p = sorted(p,key=calidad,reverse=True)\n",
        "p"
      ],
      "execution_count": null,
      "outputs": [
        {
          "output_type": "execute_result",
          "data": {
            "text/plain": [
              "[[0, 0, 0, 1, 1, 0, 1, 0, 0, 0],\n",
              " [1, 0, 1, 0, 1, 0, 0, 0, 1, 0],\n",
              " [0, 0, 0, 0, 1, 1, 1, 0, 0, 0],\n",
              " [0, 0, 1, 0, 0, 1, 1, 1, 0, 0],\n",
              " [0, 0, 0, 0, 1, 1, 0, 1, 1, 0],\n",
              " [0, 1, 0, 0, 1, 0, 1, 0, 0, 0],\n",
              " [1, 0, 0, 0, 0, 1, 0, 1, 0, 0],\n",
              " [0, 0, 0, 0, 1, 0, 0, 1, 0, 1],\n",
              " [0, 0, 0, 0, 0, 1, 1, 0, 1, 0],\n",
              " [1, 0, 0, 0, 0, 0, 0, 1, 0, 0],\n",
              " [0, 0, 0, 1, 0, 0, 0, 1, 1, 0],\n",
              " [0, 1, 0, 0, 0, 0, 0, 1, 0, 1],\n",
              " [0, 1, 1, 0, 1, 0, 0, 0, 0, 0],\n",
              " [0, 0, 0, 0, 1, 0, 0, 0, 0, 0],\n",
              " [0, 1, 0, 0, 0, 0, 0, 0, 0, 0]]"
            ]
          },
          "metadata": {},
          "execution_count": 22
        }
      ]
    },
    {
      "cell_type": "code",
      "metadata": {
        "id": "780yBdgxSaFJ"
      },
      "source": [
        ""
      ],
      "execution_count": null,
      "outputs": []
    }
  ]
}