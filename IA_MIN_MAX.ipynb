{
  "nbformat": 4,
  "nbformat_minor": 0,
  "metadata": {
    "colab": {
      "name": "IA_MIN_MAX.ipynb",
      "provenance": [],
      "include_colab_link": true
    },
    "kernelspec": {
      "name": "python3",
      "display_name": "Python 3"
    },
    "language_info": {
      "name": "python"
    }
  },
  "cells": [
    {
      "cell_type": "markdown",
      "metadata": {
        "id": "view-in-github",
        "colab_type": "text"
      },
      "source": [
        "<a href=\"https://colab.research.google.com/github/pinoke98/Artificial_Intelligence/blob/main/IA_MIN_MAX.ipynb\" target=\"_parent\"><img src=\"https://colab.research.google.com/assets/colab-badge.svg\" alt=\"Open In Colab\"/></a>"
      ]
    },
    {
      "cell_type": "code",
      "metadata": {
        "id": "ryG2DT56Vqe2"
      },
      "source": [
        "import pydot\n",
        "from IPython.display import Image, display\n",
        "import queue\n",
        "import numpy as np"
      ],
      "execution_count": null,
      "outputs": []
    },
    {
      "cell_type": "markdown",
      "metadata": {
        "id": "L8QbkaMKI9-S"
      },
      "source": [
        "Podemos reusar la clase nodo y árbol desarrollada para los algoritmos de búsqueda a ciega y búsqueda heurística. Adicionando el método minimax y alfa-beta a la última"
      ]
    },
    {
      "cell_type": "code",
      "metadata": {
        "id": "6YAkm8jzLntk"
      },
      "source": [
        "class Node ():\n",
        "  def __init__(self, state,value,operators,operator=None, parent=None,objective=None):\n",
        "    self.state= state\n",
        "    self.value = value\n",
        "    self.children = []\n",
        "    self.parent=parent\n",
        "    self.operator=operator\n",
        "    self.objective=objective\n",
        "    self.level=0\n",
        "    self.operators=operators\n",
        "    self.v=0\n",
        "\n",
        "  def add_child(self, value, state, operator):\n",
        "    node=type(self)(value=value, state=state, operator=operator,parent=self,operators=self.operators)\n",
        "    node.level=node.parent.level+1\n",
        "    self.children.append(node)\n",
        "    return node\n",
        "  \n",
        "  def add_node_child(self, node):\n",
        "    node.level=node.parent.level+1\n",
        "    self.children.append(node)    \n",
        "    return node\n",
        "\n",
        "  #Devuelve todos los estados según los operadores aplicados\n",
        "  def getchildrens(self):\n",
        "    return [\n",
        "        self.getState(i) \n",
        "          if not self.repeatStatePath(self.getState(i)) \n",
        "            else None for i, op in enumerate(self.operators)]\n",
        "    \n",
        "  def getState(self, index):\n",
        "    pass\n",
        "  \n",
        "  def __eq__(self, other):\n",
        "    return self.state == other.state\n",
        " \n",
        "  def __lt__(self, other):\n",
        "    return self.f() < other.f()\n",
        "   \n",
        "  \n",
        "  def repeatStatePath(self, state):\n",
        "      n=self\n",
        "      while n is not None and n.state!=state:\n",
        "          n=n.parent\n",
        "      return n is not None\n",
        "    \n",
        "  def pathObjective(self):\n",
        "      n=self\n",
        "      result=[]\n",
        "      while n is not None:\n",
        "          result.append(n)\n",
        "          n=n.parent\n",
        "      return result\n",
        "  \n",
        "  def heuristic(self):\n",
        "    return 0\n",
        "  \n",
        "  def cost(self):\n",
        "    return 1\n",
        "  \n",
        "  def f(self): \n",
        "    return self.cost()+self.heuristic()\n",
        "\n",
        "  ### Crear método para criterio objetivo\n",
        "  ### Por defecto vamos a poner que sea igual al estado objetivo, para cada caso se puede sobreescribir la función\n",
        "  def isObjective(self):\n",
        "    return (self.state==self.objetive.state)\n"
      ],
      "execution_count": null,
      "outputs": []
    },
    {
      "cell_type": "code",
      "metadata": {
        "id": "jbvA6STqaVvz"
      },
      "source": [
        "class Tree ():\n",
        "  def __init__(self, root ,operators):\n",
        "    self.root=root\n",
        "    self.operators=operators\n",
        "\n",
        "  def printPath(self,n):\n",
        "    stack=n.pathObjective()\n",
        "    path=stack.copy()\n",
        "    while len(stack)!=0:\n",
        "        node=stack.pop()\n",
        "        if node.operator is not None:\n",
        "            print(f'operador:  {self.operators[node.operator]} \\t estado: {node.state}')\n",
        "        else:\n",
        "            print(f' {node.state}')\n",
        "    return path\n",
        "\n",
        "  def reinitRoot(self):\n",
        "    self.root.operator=None\n",
        "    self.root.parent=None\n",
        "    self.root.objective=None\n",
        "    self.root.children = []\n",
        "    self.root.level=0\n",
        "\n",
        "  ## Primero a lo ancho\n",
        "  def breadthFirst(self,endState):\n",
        "    self.reinitRoot()\n",
        "    pq=queue.Queue()\n",
        "    pq.put(self.root)\n",
        "    while not pq.empty():\n",
        "      node=pq.get()\n",
        "      children=node.getchildrens()\n",
        "      for i,child in enumerate(children):\n",
        "        if child is not None:\n",
        "          newChild=node.add_child(value=node.value+'-'+str(i), state=child, operator=i)\n",
        "          pq.put(newChild)\n",
        "          if endState==child:\n",
        "            return newChild\n",
        "\n",
        "  ## Primero en profundidad\n",
        "  def dephFirst(self, endState):\n",
        "    self.reinitRoot()\n",
        "    pq=[]\n",
        "    pq.append(self.root)    \n",
        "    while len(pq)>0:\n",
        "      node=pq.pop()\n",
        "      if (node.parent is not None):\n",
        "        node.parent.add_node_child(node)\n",
        "      children=node.getchildrens()\n",
        "      temp=[]\n",
        "      for i,child in enumerate(children):\n",
        "        if child is not None:\n",
        "          newChild=type(self.root)(value=node.value+'-'+str(i),state=child,operator=i,parent=node, operators=node.operators)\n",
        "          temp.append(newChild)\n",
        "          if endState==child:\n",
        "            node.add_node_child(newChild)\n",
        "            return newChild\n",
        "      #Adicionar los hijos en forma inversa para que salga primero el primero que se adicionó\n",
        "      temp.reverse()\n",
        "      for e in temp:\n",
        "        pq.append(e)\n",
        "  \n",
        "  ## Costo uniforme\n",
        "  def costUniform(self,endState):\n",
        "    self.reinitRoot()\n",
        "    pq=queue.PriorityQueue()\n",
        "    pq.put((self.root.cost(),self.root))\n",
        "    while not pq.empty():\n",
        "      node=pq.get()[1]\n",
        "      children=node.getchildrens()\n",
        "      for i,child in enumerate(children):\n",
        "        if child is not None:\n",
        "          newChild=node.add_child(value=node.value+'-'+str(i), \n",
        "                                  state=child, operator=i)\n",
        "          pq.put((newChild.cost(),newChild))\n",
        "          if endState==child:\n",
        "            return newChild\n",
        "\n",
        "  ## Primero el mejor \n",
        "  def bestFirst(self,endState):\n",
        "    self.reinitRoot()\n",
        "    pq=queue.PriorityQueue()\n",
        "    pq.put((self.root.heuristic(),self.root))\n",
        "    while not pq.empty():\n",
        "      node=pq.get()[1]\n",
        "      children=node.getchildrens()\n",
        "      for i,child in enumerate(children):\n",
        "        if child is not None:\n",
        "          newChild=node.add_child(value=node.value+'-'+str(i), \n",
        "                                  state=child, operator=i)\n",
        "          pq.put((newChild.heuristic(),newChild))\n",
        "          if endState==child:\n",
        "            return newChild\n",
        "\n",
        "  ## A*\n",
        "  def Aasterisk(self,endState):\n",
        "    self.reinitRoot()\n",
        "    pq=queue.PriorityQueue()\n",
        "    pq.put((self.root.f(),self.root))\n",
        "    while not pq.empty():\n",
        "      node=pq.get()[1]\n",
        "      children=node.getchildrens()\n",
        "      for i,child in enumerate(children):\n",
        "        if child is not None:\n",
        "          newChild=node.add_child(value=node.value+'-'+str(i), \n",
        "                                  state=child, operator=i)\n",
        "          pq.put((newChild.f(),newChild))\n",
        "          if endState==child:\n",
        "            return newChild\n",
        "\n",
        "    ## Generar los hijos del nodo \n",
        "    \n",
        "  def miniMax(self, depth):\n",
        "    self.root.v=self.miniMaxR(self.root, depth, True)#True si empieza el jugador MAX, False si empieza el jugador Min\n",
        "    ## Comparar los hijos de root\n",
        "    values=[c.v for c in self.root.children]\n",
        "    maxvalue=max(values)\n",
        "    index=values.index(maxvalue)\n",
        "    return self.root.children[index]\n",
        "\n",
        "  def miniMaxR(self, node, depth, maxPlayer):\n",
        "    if depth==0 or node.isObjective():\n",
        "      node.v=node.heuristic()\n",
        "      return node.heuristic()\n",
        "    ## Generar los hijos del nodo\n",
        "    children=node.getchildrens()\n",
        "    \n",
        "    ## Según el jugador que sea en el árbol\n",
        "    if maxPlayer:\n",
        "      value=float('-inf')\n",
        "      for i,child in enumerate(children):\n",
        "        if child is not None:\n",
        "          newChild=type(self.root)(value=node.value+'-'+str(i),state=child,operator=i,parent=node, operators=node.operators,player=False)\n",
        "          newChild=node.add_node_child(newChild)\n",
        "          value=max(value,self.miniMaxR(newChild,depth-1,False))\n",
        "      #node.v=value\n",
        "      #return value\n",
        "    else:\n",
        "      value=float('inf')\n",
        "      for i,child in enumerate(children):\n",
        "        if child is not None:\n",
        "          newChild=type(self.root)(value=node.value+'-'+str(i),state=child,operator=i,parent=node, operators=node.operators,player=True)\n",
        "          newChild=node.add_node_child(newChild)\n",
        "          value=min(value,self.miniMaxR(newChild,depth-1,True))\n",
        "    node.v=value\n",
        "    return value\n",
        "\n",
        "  def alphaBeta(self, depth):\n",
        "    self.root.v= self.alphaBetaR(self.root, depth,float('-inf'),float('+inf'), True)\n",
        "    if not self.root.isObjective():\n",
        "      values =[c.v for c in self.root.children]\n",
        "      maxvalue=max(values)\n",
        "      index = values.index(maxvalue)\n",
        "      return self.root.children[index]\n",
        "    else:\n",
        "      return self.root\n",
        "\n",
        "  def alphaBetaR(self, node, depth,alpha,beta, maxPlayer):\n",
        "    if depth==0 or node.isObjective():\n",
        "      node.v = node.heuristic()\n",
        "      #print(node.v)\n",
        "      return node.heuristic()\n",
        "    if maxPlayer:\n",
        "      value=float('-inf')\n",
        "      children = node.getchildrensZ()\n",
        "      #print(children)\n",
        "      for i,child in enumerate(children):\n",
        "        if child is not None:\n",
        "          newChild=type(self.root)(value=node.value+'-'+str(i),state=child,operator=i,parent=node, operators=node.operators,player=False)\n",
        "          newChild=node.add_node_child(newChild)   \n",
        "          value = max(value,self.alphaBetaR(newChild, depth-1, alpha,beta,False))\n",
        "          alpha = max(alpha,value)\n",
        "          if alpha>=beta:\n",
        "            break\n",
        "    else:\n",
        "      value=float('inf')\n",
        "      children = node.getchildrensH()\n",
        "      #print(children)\n",
        "      for i,child in enumerate(children):\n",
        "        if child is not None:\n",
        "          newChild=type(self.root)(value=node.value+'-'+str(i),state=child,operator=i,parent=node, operators=node.operators,player=True)\n",
        "          newChild=node.add_node_child(newChild)   \n",
        "          value = min(value,self.alphaBetaR(newChild, depth-1, alpha,beta,True))\n",
        "          beta = min(beta,value)\n",
        "          if alpha>=beta:\n",
        "            break\n",
        "    node.v=value\n",
        "    return value\n",
        "    \n",
        "  ## Método para dibujar el árbol        \n",
        "  def draw(self,path):\n",
        "    graph = pydot.Dot(graph_type='graph')\n",
        "    nodeGraph=pydot.Node(str(self.root.state)+\"-\"+str(0),\n",
        "                          label=str(self.root.state),shape =\"circle\", \n",
        "                          style=\"filled\", fillcolor=\"red\")\n",
        "    graph.add_node(nodeGraph)\n",
        "    path.pop()\n",
        "    return self.drawTreeRec(self.root,nodeGraph,graph,0,path.pop(),path)\n",
        "  \n",
        "  ## Método recursivo para dibujar el árbol  \n",
        "  def drawTreeRec(self,r,rootGraph,graph,i,topPath,path):\n",
        "    if r is not None:\n",
        "      children=r.children\n",
        "      for j,child in enumerate(children):\n",
        "        i=i+1\n",
        "        color=\"white\"\n",
        "        if topPath.value==child.value:\n",
        "          if len(path)>0:topPath=path.pop()\n",
        "          color='red'\n",
        "        c=pydot.Node(child.value,label=str(child.state)+r\"\\n\"+r\"\\n\"+\"f=\"+str(child.heuristic())+r\"\\n\"+str(child.v), \n",
        "                      shape =\"circle\", style=\"filled\", \n",
        "                      fillcolor=color)\n",
        "        graph.add_node(c)\n",
        "        graph.add_edge(pydot.Edge(rootGraph, c, \n",
        "                                  label=str(child.operator)+'('+str(child.cost())+')'))\n",
        "        graph=self.drawTreeRec(child,c,graph,i,topPath,path)  # recursive call\n",
        "      return graph\n",
        "    else:\n",
        "      return graph  "
      ],
      "execution_count": null,
      "outputs": []
    },
    {
      "cell_type": "markdown",
      "metadata": {
        "id": "68iuERdFz9UG"
      },
      "source": [
        "Vamos a suponer que se comienza con Max (True) y que Max es X\n",
        "\n",
        "la función sería:\n",
        "\n",
        "![image.png](data:image/png;base64,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)"
      ]
    },
    {
      "cell_type": "code",
      "metadata": {
        "colab": {
          "base_uri": "https://localhost:8080/"
        },
        "id": "UaCivW_EAUc0",
        "outputId": "69809394-f1cc-4a06-9ac8-e9dd92921a08"
      },
      "source": [
        "f=['X','O','X']\n",
        "v=[f[0]==x for x in f]\n",
        "print(v)\n",
        "all(v)"
      ],
      "execution_count": null,
      "outputs": [
        {
          "output_type": "stream",
          "name": "stdout",
          "text": [
            "[True, False, True]\n"
          ]
        },
        {
          "output_type": "execute_result",
          "data": {
            "text/plain": [
              "False"
            ]
          },
          "metadata": {},
          "execution_count": 4
        }
      ]
    },
    {
      "cell_type": "code",
      "metadata": {
        "id": "rgdt9E03vnm1"
      },
      "source": [
        "class NodeTicTacToe(Node):\n",
        "  ## Vamos a añadir el jugador, pues en dependencia del jugador se hace una cosa u otra.\n",
        "\n",
        "  def __init__(self, player=True,**kwargs):\n",
        "    super(NodeTicTacToe, self).__init__(**kwargs)\n",
        "    self.player=player\n",
        "    if player:\n",
        "      self.v=float('-inf')\n",
        "    else:\n",
        "      self.v=float('inf')\n",
        "  \n",
        "  def getState(self, index):\n",
        "    state=self.state\n",
        "    nextState=None\n",
        "    (x,y)=self.operators[index]\n",
        "    if state[x][y]==' ':\n",
        "      nextState= [f.copy() for f in state]\n",
        "      if self.player==True: ## Si es Max se pone X    \n",
        "        nextState[x][y]='X'\n",
        "      else: ## Si es Max se pone X\n",
        "        nextState[x][y]='O'\n",
        "    return nextState if state!=nextState else None\n",
        "\n",
        "  #Costo acumulativo(valor 1 en cada nivel)\n",
        "  def cost(self):\n",
        "    return self.level\n",
        "  \n",
        "  ##Ver si el nodo es un nodo objetivo para O o para X, o hay empate\n",
        "  def isObjective(self):\n",
        "    a=[f.copy() for f in self.state]\n",
        "    b=np.array(a).T\n",
        "    a.append(np.diag(self.state))\n",
        "    a.append(np.flipud(self.state).diagonal())\n",
        "    a=np.array(a)\n",
        "    c=np.concatenate((a,b),axis=0)\n",
        "    for f in c:\n",
        "      if f[0]!=' ' and all(x == f[0] for x in f):\n",
        "        return True\n",
        "    ### Empate\n",
        "    if not np.in1d([' '], self.state):\n",
        "      return True\n",
        "    return False \n",
        "\n",
        "  ## Si es nodo objetivo, si X retornamos 1, si O -1 y si no 0\n",
        "  def heuristic(self):\n",
        "    a=[f.copy() for f in self.state]\n",
        "    b=np.array(a).T\n",
        "    a.append(np.diag(self.state))\n",
        "    a.append(np.flipud(self.state).diagonal())\n",
        "    a=np.array(a)\n",
        "    c=np.concatenate((a,b),axis=0)\n",
        "    ## Estados ganadores para Max y Min\n",
        "    for f in c:\n",
        "      if f[0]!=' ' and all(x == f[0] for x in f):\n",
        "        return 1 if f[0]=='X' else -1\n",
        "    ## Empate\n",
        "    if not np.in1d([' '], self.state):\n",
        "      return 0\n",
        "    ## Elaborar resto de heurística...\n",
        "    return 0"
      ],
      "execution_count": null,
      "outputs": []
    },
    {
      "cell_type": "code",
      "metadata": {
        "id": "J4dti-5PxHnh"
      },
      "source": [
        "#'poner ficha en casilla vacía fila f, columna c', lista de posiciones para poner la ficha\n",
        "initState=[['X','O',' '], \n",
        "           [' ',' ',' '], \n",
        "           [' ',' ',' ']]\n",
        "\n",
        "operators=[(i,j) for i,f in enumerate(initState) for j,c in enumerate(f)]"
      ],
      "execution_count": null,
      "outputs": []
    },
    {
      "cell_type": "code",
      "metadata": {
        "colab": {
          "base_uri": "https://localhost:8080/"
        },
        "id": "TiBFtZcHyj7t",
        "outputId": "69f3c016-4174-4ec8-87ba-bcd37a6639ec"
      },
      "source": [
        "operators"
      ],
      "execution_count": null,
      "outputs": [
        {
          "output_type": "execute_result",
          "data": {
            "text/plain": [
              "[(0, 0), (0, 1), (0, 2), (1, 0), (1, 1), (1, 2), (2, 0), (2, 1), (2, 2)]"
            ]
          },
          "metadata": {},
          "execution_count": 77
        }
      ]
    },
    {
      "cell_type": "code",
      "metadata": {
        "id": "DHHc4U1K8qgL",
        "colab": {
          "base_uri": "https://localhost:8080/"
        },
        "outputId": "352e9ce9-15f2-4b35-fa9b-d38b185c37ee"
      },
      "source": [
        "nodeInit=NodeTicTacToe(True,value=\"inicio\",state=initState, operators= operators)\n",
        "treeMinMax= Tree(nodeInit,operators)\n",
        "treeMinMax"
      ],
      "execution_count": null,
      "outputs": [
        {
          "output_type": "execute_result",
          "data": {
            "text/plain": [
              "<__main__.Tree at 0x7f6bf39c6fd0>"
            ]
          },
          "metadata": {},
          "execution_count": 78
        }
      ]
    },
    {
      "cell_type": "code",
      "metadata": {
        "id": "c1Mugbxz9zm_",
        "colab": {
          "base_uri": "https://localhost:8080/"
        },
        "outputId": "7b05a744-e861-4cdf-9d98-0c97cfc381fc"
      },
      "source": [
        "objective=treeMinMax.miniMax(-1)\n",
        "objective"
      ],
      "execution_count": null,
      "outputs": [
        {
          "output_type": "execute_result",
          "data": {
            "text/plain": [
              "<__main__.NodeTicTacToe at 0x7f6bf3d98190>"
            ]
          },
          "metadata": {},
          "execution_count": 82
        }
      ]
    },
    {
      "cell_type": "code",
      "metadata": {
        "colab": {
          "base_uri": "https://localhost:8080/",
          "height": 54
        },
        "id": "AcIDqkj0Hxxa",
        "outputId": "44042865-a9bb-4fc6-af23-221afe8cdbce"
      },
      "source": [
        "# path=treeMinMax.printPath(objective)\n",
        "# graph=treeMinMax.draw(path.copy())\n",
        "# tree_image = Image(graph.create_png(), width=1500, height=1000)\n",
        "# display(tree_image)"
      ],
      "execution_count": null,
      "outputs": [
        {
          "output_type": "execute_result",
          "data": {
            "application/vnd.google.colaboratory.intrinsic+json": {
              "type": "string"
            },
            "text/plain": [
              "'path=treeMinMax.printPath(objective)\\ngraph=treeMinMax.draw(path.copy())\\ntree_image = Image(graph.create_png(), width=1500, height=1000)\\ndisplay(tree_image)'"
            ]
          },
          "metadata": {},
          "execution_count": 80
        }
      ]
    }
  ]
}